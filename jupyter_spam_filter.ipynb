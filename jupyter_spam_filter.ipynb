{
 "cells": [
  {
   "cell_type": "markdown",
   "id": "be587620",
   "metadata": {},
   "source": [
    "# Spam E-Mail Sınıflandırma Projesi"
   ]
  },
  {
   "cell_type": "markdown",
   "id": "e00a02ad",
   "metadata": {},
   "source": [
    "## Hazır Veri Setini Okumak\n",
    "Hazır veri seti olarak, Kaggle sitesinde bulunan \"Ling-Spam Dataset\" veri setini kullandım."
   ]
  },
  {
   "cell_type": "code",
   "execution_count": 1,
   "id": "e5f502fa",
   "metadata": {},
   "outputs": [
    {
     "data": {
      "text/html": [
       "<div>\n",
       "<style scoped>\n",
       "    .dataframe tbody tr th:only-of-type {\n",
       "        vertical-align: middle;\n",
       "    }\n",
       "\n",
       "    .dataframe tbody tr th {\n",
       "        vertical-align: top;\n",
       "    }\n",
       "\n",
       "    .dataframe thead th {\n",
       "        text-align: right;\n",
       "    }\n",
       "</style>\n",
       "<table border=\"1\" class=\"dataframe\">\n",
       "  <thead>\n",
       "    <tr style=\"text-align: right;\">\n",
       "      <th></th>\n",
       "      <th>subject</th>\n",
       "      <th>message</th>\n",
       "      <th>label</th>\n",
       "    </tr>\n",
       "  </thead>\n",
       "  <tbody>\n",
       "    <tr>\n",
       "      <th>0</th>\n",
       "      <td>job posting - apple-iss research center</td>\n",
       "      <td>content - length : 3386 apple-iss research cen...</td>\n",
       "      <td>0</td>\n",
       "    </tr>\n",
       "    <tr>\n",
       "      <th>1</th>\n",
       "      <td>NaN</td>\n",
       "      <td>lang classification grimes , joseph e . and ba...</td>\n",
       "      <td>0</td>\n",
       "    </tr>\n",
       "    <tr>\n",
       "      <th>2</th>\n",
       "      <td>query : letter frequencies for text identifica...</td>\n",
       "      <td>i am posting this inquiry for sergei atamas ( ...</td>\n",
       "      <td>0</td>\n",
       "    </tr>\n",
       "    <tr>\n",
       "      <th>3</th>\n",
       "      <td>risk</td>\n",
       "      <td>a colleague and i are researching the differin...</td>\n",
       "      <td>0</td>\n",
       "    </tr>\n",
       "    <tr>\n",
       "      <th>4</th>\n",
       "      <td>request book information</td>\n",
       "      <td>earlier this morning i was on the phone with a...</td>\n",
       "      <td>0</td>\n",
       "    </tr>\n",
       "  </tbody>\n",
       "</table>\n",
       "</div>"
      ],
      "text/plain": [
       "                                             subject  \\\n",
       "0            job posting - apple-iss research center   \n",
       "1                                                NaN   \n",
       "2  query : letter frequencies for text identifica...   \n",
       "3                                               risk   \n",
       "4                           request book information   \n",
       "\n",
       "                                             message  label  \n",
       "0  content - length : 3386 apple-iss research cen...      0  \n",
       "1  lang classification grimes , joseph e . and ba...      0  \n",
       "2  i am posting this inquiry for sergei atamas ( ...      0  \n",
       "3  a colleague and i are researching the differin...      0  \n",
       "4  earlier this morning i was on the phone with a...      0  "
      ]
     },
     "execution_count": 1,
     "metadata": {},
     "output_type": "execute_result"
    }
   ],
   "source": [
    "import pandas as pd \n",
    "\n",
    "# Hazır veri setini bir pandas dataFrame yapısına aktarıyorum\n",
    "df=pd.read_csv('C:/Users/Talha/Desktop/spam_filter/veri_seti/messages.csv')\n",
    "df.head()  # Okumayı kontrol etmek ve veri setimizi incelemek adına ilk 5 veriye bakalım\n"
   ]
  },
  {
   "cell_type": "markdown",
   "id": "74625804",
   "metadata": {},
   "source": [
    "Veri setinde 3 nitelik bulunuyor. Subject(Mail Başlığı), Message(Mail İçeriği), Label(Etiket => 0=Spam Değil,1=Spam Mail) "
   ]
  },
  {
   "cell_type": "markdown",
   "id": "cbe2c467",
   "metadata": {},
   "source": [
    "### Ana veriyi bozmamak için kopya veri yapısı oluşturma"
   ]
  },
  {
   "cell_type": "code",
   "execution_count": 2,
   "id": "96ce861a",
   "metadata": {},
   "outputs": [
    {
     "data": {
      "text/html": [
       "<div>\n",
       "<style scoped>\n",
       "    .dataframe tbody tr th:only-of-type {\n",
       "        vertical-align: middle;\n",
       "    }\n",
       "\n",
       "    .dataframe tbody tr th {\n",
       "        vertical-align: top;\n",
       "    }\n",
       "\n",
       "    .dataframe thead th {\n",
       "        text-align: right;\n",
       "    }\n",
       "</style>\n",
       "<table border=\"1\" class=\"dataframe\">\n",
       "  <thead>\n",
       "    <tr style=\"text-align: right;\">\n",
       "      <th></th>\n",
       "      <th>subject</th>\n",
       "      <th>message</th>\n",
       "      <th>label</th>\n",
       "    </tr>\n",
       "  </thead>\n",
       "  <tbody>\n",
       "    <tr>\n",
       "      <th>0</th>\n",
       "      <td>job posting - apple-iss research center</td>\n",
       "      <td>content - length : 3386 apple-iss research cen...</td>\n",
       "      <td>0</td>\n",
       "    </tr>\n",
       "    <tr>\n",
       "      <th>1</th>\n",
       "      <td>NaN</td>\n",
       "      <td>lang classification grimes , joseph e . and ba...</td>\n",
       "      <td>0</td>\n",
       "    </tr>\n",
       "    <tr>\n",
       "      <th>2</th>\n",
       "      <td>query : letter frequencies for text identifica...</td>\n",
       "      <td>i am posting this inquiry for sergei atamas ( ...</td>\n",
       "      <td>0</td>\n",
       "    </tr>\n",
       "    <tr>\n",
       "      <th>3</th>\n",
       "      <td>risk</td>\n",
       "      <td>a colleague and i are researching the differin...</td>\n",
       "      <td>0</td>\n",
       "    </tr>\n",
       "    <tr>\n",
       "      <th>4</th>\n",
       "      <td>request book information</td>\n",
       "      <td>earlier this morning i was on the phone with a...</td>\n",
       "      <td>0</td>\n",
       "    </tr>\n",
       "  </tbody>\n",
       "</table>\n",
       "</div>"
      ],
      "text/plain": [
       "                                             subject  \\\n",
       "0            job posting - apple-iss research center   \n",
       "1                                                NaN   \n",
       "2  query : letter frequencies for text identifica...   \n",
       "3                                               risk   \n",
       "4                           request book information   \n",
       "\n",
       "                                             message  label  \n",
       "0  content - length : 3386 apple-iss research cen...      0  \n",
       "1  lang classification grimes , joseph e . and ba...      0  \n",
       "2  i am posting this inquiry for sergei atamas ( ...      0  \n",
       "3  a colleague and i are researching the differin...      0  \n",
       "4  earlier this morning i was on the phone with a...      0  "
      ]
     },
     "execution_count": 2,
     "metadata": {},
     "output_type": "execute_result"
    }
   ],
   "source": [
    "df_t = df.copy()  # Bu kopya üzerinde işlemler yürütülecek\n",
    "df_t.head()"
   ]
  },
  {
   "cell_type": "markdown",
   "id": "2c89574a",
   "metadata": {},
   "source": [
    "## Tutarsızlığı önleme"
   ]
  },
  {
   "cell_type": "markdown",
   "id": "5c7bfc4e",
   "metadata": {},
   "source": [
    "- Büyük harf/küçük harf kullanımlarından kaynaklanan veri tutarsızlıklarını gidermek için bütün karakterleri küçük harfe dönüştürdüm."
   ]
  },
  {
   "cell_type": "code",
   "execution_count": 3,
   "id": "76d7bf06",
   "metadata": {},
   "outputs": [],
   "source": [
    "df_t['message'] = df_t['message'].str.lower() \n",
    "#Örneğin, \"Hello\" ve \"hello\" mesajları,  büyük harf/küçük harf farklılığı nedeniyle iki farklı kelime gibi işlem görebilir. \n",
    "#Bu sayede hem tutarsızlık önlenir hem de performans artar."
   ]
  },
  {
   "cell_type": "markdown",
   "id": "32808b1a",
   "metadata": {},
   "source": [
    "## Eksik Verilerin Giderilmesi"
   ]
  },
  {
   "cell_type": "code",
   "execution_count": 4,
   "id": "e8224b57",
   "metadata": {},
   "outputs": [
    {
     "data": {
      "text/plain": [
       "subject    62\n",
       "message     0\n",
       "label       0\n",
       "dtype: int64"
      ]
     },
     "execution_count": 4,
     "metadata": {},
     "output_type": "execute_result"
    }
   ],
   "source": [
    "df.isnull().sum() #Eksik verilerin toplamı incelenir"
   ]
  },
  {
   "cell_type": "markdown",
   "id": "efbbe545",
   "metadata": {},
   "source": [
    "Toplamda **62** tane eksik veril olduğu görülür. Eksik veriler sadece *subject* niteliğinde bulunuyor."
   ]
  },
  {
   "cell_type": "markdown",
   "id": "8f9b4ef7",
   "metadata": {},
   "source": [
    "### Eksik veriler, **en sık** tekrar eden veri ile güncellenir."
   ]
  },
  {
   "cell_type": "markdown",
   "id": "c7b762e4",
   "metadata": {},
   "source": [
    "En sık tekrar eden veri, eksik değerleri doldurmak için kullanılan popüler bir yöntemdir.\n",
    "Bu yöntem, bir veri kümesindeki eksik değerlerin **olası en küçük değişikliği içermesini sağlar** ve verilerin dağılımını bozmaz."
   ]
  },
  {
   "cell_type": "markdown",
   "id": "32e7e79e",
   "metadata": {},
   "source": [
    "Veri eksikliği sadece *subject* niteliği altında olduğu için sadece **subject niteliğine özgü** güncelleme yapılır."
   ]
  },
  {
   "cell_type": "code",
   "execution_count": 5,
   "id": "c6192ea9",
   "metadata": {},
   "outputs": [
    {
     "data": {
      "text/plain": [
       "subject    0\n",
       "message    0\n",
       "label      0\n",
       "dtype: int64"
      ]
     },
     "execution_count": 5,
     "metadata": {},
     "output_type": "execute_result"
    }
   ],
   "source": [
    "df_t.fillna(df_t['subject'].mode().values[0],inplace=True)\n",
    " # NaN değerleri, df_t veri setinin mail başlığı kısmındaki (mod)en sık tekrar eden \"mode[0]\" değeri ile değiştir.\n",
    "df_t.isnull().sum() # Eksik verilerin kontrolü"
   ]
  },
  {
   "cell_type": "markdown",
   "id": "030b6439",
   "metadata": {},
   "source": [
    "# Yeni Özellik Yaratma / Özellik Mühendisliği "
   ]
  },
  {
   "cell_type": "markdown",
   "id": "895a3ba0",
   "metadata": {},
   "source": [
    " - \"*subject*\" niteliği  e-posta konusunu açıklar, \"*message*\" niteliği ise e-posta içeriğini tanımlar. Bu iki **nitelik/özellik** birleştirilerek \"*sub_mssg*\" özelliği oluşturulur, veriler daha anlamlı ve işlevsel hale getirilmiş olur. Bu yeni nitelik içinde  daha verimli şekilde anahtar kelimeler bulunabilir veya etiketleri/temaları belirlenebilir."
   ]
  },
  {
   "cell_type": "code",
   "execution_count": 6,
   "id": "84f90449",
   "metadata": {},
   "outputs": [
    {
     "data": {
      "text/html": [
       "<div>\n",
       "<style scoped>\n",
       "    .dataframe tbody tr th:only-of-type {\n",
       "        vertical-align: middle;\n",
       "    }\n",
       "\n",
       "    .dataframe tbody tr th {\n",
       "        vertical-align: top;\n",
       "    }\n",
       "\n",
       "    .dataframe thead th {\n",
       "        text-align: right;\n",
       "    }\n",
       "</style>\n",
       "<table border=\"1\" class=\"dataframe\">\n",
       "  <thead>\n",
       "    <tr style=\"text-align: right;\">\n",
       "      <th></th>\n",
       "      <th>subject</th>\n",
       "      <th>message</th>\n",
       "      <th>label</th>\n",
       "      <th>sub_mssg</th>\n",
       "    </tr>\n",
       "  </thead>\n",
       "  <tbody>\n",
       "    <tr>\n",
       "      <th>0</th>\n",
       "      <td>job posting - apple-iss research center</td>\n",
       "      <td>content - length : 3386 apple-iss research cen...</td>\n",
       "      <td>0</td>\n",
       "      <td>job posting - apple-iss research centercontent...</td>\n",
       "    </tr>\n",
       "    <tr>\n",
       "      <th>1</th>\n",
       "      <td>sociolinguistics</td>\n",
       "      <td>lang classification grimes , joseph e . and ba...</td>\n",
       "      <td>0</td>\n",
       "      <td>sociolinguisticslang classification grimes , j...</td>\n",
       "    </tr>\n",
       "    <tr>\n",
       "      <th>2</th>\n",
       "      <td>query : letter frequencies for text identifica...</td>\n",
       "      <td>i am posting this inquiry for sergei atamas ( ...</td>\n",
       "      <td>0</td>\n",
       "      <td>query : letter frequencies for text identifica...</td>\n",
       "    </tr>\n",
       "    <tr>\n",
       "      <th>3</th>\n",
       "      <td>risk</td>\n",
       "      <td>a colleague and i are researching the differin...</td>\n",
       "      <td>0</td>\n",
       "      <td>riska colleague and i are researching the diff...</td>\n",
       "    </tr>\n",
       "    <tr>\n",
       "      <th>4</th>\n",
       "      <td>request book information</td>\n",
       "      <td>earlier this morning i was on the phone with a...</td>\n",
       "      <td>0</td>\n",
       "      <td>request book informationearlier this morning i...</td>\n",
       "    </tr>\n",
       "  </tbody>\n",
       "</table>\n",
       "</div>"
      ],
      "text/plain": [
       "                                             subject  \\\n",
       "0            job posting - apple-iss research center   \n",
       "1                                   sociolinguistics   \n",
       "2  query : letter frequencies for text identifica...   \n",
       "3                                               risk   \n",
       "4                           request book information   \n",
       "\n",
       "                                             message  label  \\\n",
       "0  content - length : 3386 apple-iss research cen...      0   \n",
       "1  lang classification grimes , joseph e . and ba...      0   \n",
       "2  i am posting this inquiry for sergei atamas ( ...      0   \n",
       "3  a colleague and i are researching the differin...      0   \n",
       "4  earlier this morning i was on the phone with a...      0   \n",
       "\n",
       "                                            sub_mssg  \n",
       "0  job posting - apple-iss research centercontent...  \n",
       "1  sociolinguisticslang classification grimes , j...  \n",
       "2  query : letter frequencies for text identifica...  \n",
       "3  riska colleague and i are researching the diff...  \n",
       "4  request book informationearlier this morning i...  "
      ]
     },
     "execution_count": 6,
     "metadata": {},
     "output_type": "execute_result"
    }
   ],
   "source": [
    "df_t['sub_mssg']=df_t['subject']+df_t['message']\n",
    "df_t.head()"
   ]
  },
  {
   "cell_type": "markdown",
   "id": "b4a78588",
   "metadata": {},
   "source": [
    "- **Mesajların uzunluk bilgisi**, *spam / ham ayrımı* yapmak için bir parametre olarak kullanılabilir. Bu yüzden yeni bir özellik olarak length niteliğini ekliyorum."
   ]
  },
  {
   "cell_type": "code",
   "execution_count": 7,
   "id": "ac6d1bf9",
   "metadata": {},
   "outputs": [
    {
     "data": {
      "text/html": [
       "<div>\n",
       "<style scoped>\n",
       "    .dataframe tbody tr th:only-of-type {\n",
       "        vertical-align: middle;\n",
       "    }\n",
       "\n",
       "    .dataframe tbody tr th {\n",
       "        vertical-align: top;\n",
       "    }\n",
       "\n",
       "    .dataframe thead th {\n",
       "        text-align: right;\n",
       "    }\n",
       "</style>\n",
       "<table border=\"1\" class=\"dataframe\">\n",
       "  <thead>\n",
       "    <tr style=\"text-align: right;\">\n",
       "      <th></th>\n",
       "      <th>subject</th>\n",
       "      <th>message</th>\n",
       "      <th>label</th>\n",
       "      <th>sub_mssg</th>\n",
       "      <th>length</th>\n",
       "    </tr>\n",
       "  </thead>\n",
       "  <tbody>\n",
       "    <tr>\n",
       "      <th>0</th>\n",
       "      <td>job posting - apple-iss research center</td>\n",
       "      <td>content - length : 3386 apple-iss research cen...</td>\n",
       "      <td>0</td>\n",
       "      <td>job posting - apple-iss research centercontent...</td>\n",
       "      <td>2895</td>\n",
       "    </tr>\n",
       "    <tr>\n",
       "      <th>1</th>\n",
       "      <td>sociolinguistics</td>\n",
       "      <td>lang classification grimes , joseph e . and ba...</td>\n",
       "      <td>0</td>\n",
       "      <td>sociolinguisticslang classification grimes , j...</td>\n",
       "      <td>1816</td>\n",
       "    </tr>\n",
       "    <tr>\n",
       "      <th>2</th>\n",
       "      <td>query : letter frequencies for text identifica...</td>\n",
       "      <td>i am posting this inquiry for sergei atamas ( ...</td>\n",
       "      <td>0</td>\n",
       "      <td>query : letter frequencies for text identifica...</td>\n",
       "      <td>1485</td>\n",
       "    </tr>\n",
       "    <tr>\n",
       "      <th>3</th>\n",
       "      <td>risk</td>\n",
       "      <td>a colleague and i are researching the differin...</td>\n",
       "      <td>0</td>\n",
       "      <td>riska colleague and i are researching the diff...</td>\n",
       "      <td>328</td>\n",
       "    </tr>\n",
       "    <tr>\n",
       "      <th>4</th>\n",
       "      <td>request book information</td>\n",
       "      <td>earlier this morning i was on the phone with a...</td>\n",
       "      <td>0</td>\n",
       "      <td>request book informationearlier this morning i...</td>\n",
       "      <td>1070</td>\n",
       "    </tr>\n",
       "  </tbody>\n",
       "</table>\n",
       "</div>"
      ],
      "text/plain": [
       "                                             subject  \\\n",
       "0            job posting - apple-iss research center   \n",
       "1                                   sociolinguistics   \n",
       "2  query : letter frequencies for text identifica...   \n",
       "3                                               risk   \n",
       "4                           request book information   \n",
       "\n",
       "                                             message  label  \\\n",
       "0  content - length : 3386 apple-iss research cen...      0   \n",
       "1  lang classification grimes , joseph e . and ba...      0   \n",
       "2  i am posting this inquiry for sergei atamas ( ...      0   \n",
       "3  a colleague and i are researching the differin...      0   \n",
       "4  earlier this morning i was on the phone with a...      0   \n",
       "\n",
       "                                            sub_mssg  length  \n",
       "0  job posting - apple-iss research centercontent...    2895  \n",
       "1  sociolinguisticslang classification grimes , j...    1816  \n",
       "2  query : letter frequencies for text identifica...    1485  \n",
       "3  riska colleague and i are researching the diff...     328  \n",
       "4  request book informationearlier this morning i...    1070  "
      ]
     },
     "execution_count": 7,
     "metadata": {},
     "output_type": "execute_result"
    }
   ],
   "source": [
    "df_t['length']=df_t['sub_mssg'].apply(len)\n",
    "df_t.head()"
   ]
  },
  {
   "cell_type": "markdown",
   "id": "7b8b5028",
   "metadata": {},
   "source": [
    "# Veri Görselleştirme"
   ]
  },
  {
   "cell_type": "markdown",
   "id": "a287753a",
   "metadata": {},
   "source": [
    "- Hazır veri setindeki label özelliği spam ve spam olmayan  mailleri 1/0 olarak etiketliyor. Elimizde ne kadar spam ve spam olmayan verinin olduğunu daha iyi anlamak için veri görselleştirme yaptım."
   ]
  },
  {
   "cell_type": "code",
   "execution_count": 8,
   "id": "a52b17dc",
   "metadata": {},
   "outputs": [
    {
     "name": "stdout",
     "output_type": "stream",
     "text": [
      " Sayılar : [Spam Değil, Spam Mail] = [2412, 481]\n"
     ]
    },
    {
     "data": {
      "image/png": "[encoded data removed]",
      "text/plain": [
       "<Figure size 1100x550 with 1 Axes>"
      ]
     },
     "metadata": {},
     "output_type": "display_data"
    }
   ],
   "source": [
    "import matplotlib.pyplot as plt \n",
    "\n",
    "#  \" .index \" Eşsiz kayıtları döndürür. 0 ve 1 den başka veri olup olmadığını da kontorl etmiş oluruz.\n",
    "etiketler = df_t['label'].value_counts().index.tolist()\n",
    "# \" .values \" Eşsiz kayıtların sayısını hesaplar ve .tolist bu sayıların listesini oluşturur.\n",
    "miktarlar = df_t['label'].value_counts().values.tolist()\n",
    "print(f\" Sayılar : [Spam Değil, Spam Mail] = {miktarlar}\")\n",
    "\n",
    "aciklik=(0.10,0)\n",
    "renkler=('green','red')\n",
    "plt.figure(figsize=(10,5),dpi=110)\n",
    "plt.pie(x=miktarlar,explode=aciklik,labels=etiketler,colors=renkler,autopct='%.2f%%',pctdistance=0.5, shadow=True,radius=0.9)\n",
    "plt.legend([\"Spam Değil(0)\",'Spam Mail(1)'])\n",
    "plt.show()"
   ]
  },
  {
   "cell_type": "markdown",
   "id": "23e784ba",
   "metadata": {},
   "source": [
    "# Veri Ön İşleme"
   ]
  },
  {
   "cell_type": "markdown",
   "id": "f7029aa6",
   "metadata": {},
   "source": [
    "Veri ön işleme adımında amaç,  verileri işlenebilir hale getirmektir. Bu işlemler neticesinde makine öğrenimi modelleri ile verilerimizin analizinin yapılması sağlanacak."
   ]
  },
  {
   "cell_type": "markdown",
   "id": "7d177b35",
   "metadata": {},
   "source": [
    "- Verilerin içeriği:"
   ]
  },
  {
   "cell_type": "code",
   "execution_count": 9,
   "id": "c4d38df2",
   "metadata": {},
   "outputs": [
    {
     "data": {
      "text/plain": [
       "\"content - length : 1937 greetings ! i ' m wondering if someone out there can identify the languages used in two recent ibm commercials . they have out a series of three ads with people in different countries talking about ibm equipment and services . one ad has two old gentlemen walking along what looks like the seine , speaking french . a second ad has two men sitting in what is apparently a middle eastern marketplace , and a third ad has nuns discussing ibm equipment on their way to mass . i assume the men are speaking arabic ( though i would be grateful to have that confirmed ) , but i have no idea what the nuns are speaking . anyone know ? i would also like to take this opportunity to thank all those who responded to my questions early last year about some french , italian and swedish expressions in some print ads . i meant to send individual thanks , but i lost the file in which i had the respondents ! please forgive me , and accept this general acknowledgment instead . if any of you who did respond would like to know more about what we did with your input , i would be glad to send you more information ( even the paper we wrote , if you want ) . thanks very much , mary ellen renryder @ idbsu . idbsu . edu\\n\""
      ]
     },
     "execution_count": 9,
     "metadata": {},
     "output_type": "execute_result"
    }
   ],
   "source": [
    "df_t['message'][8] "
   ]
  },
  {
   "cell_type": "markdown",
   "id": "07f747b3",
   "metadata": {},
   "source": [
    "## Metin Normalizasyonu"
   ]
  },
  {
   "cell_type": "markdown",
   "id": "776c52e4",
   "metadata": {},
   "source": [
    "Metinlerin işlenebilirliğini artırmak için ingilizcede bulunan özel durumların mormalizasyonu sağlanmalıdır. Bunu yapmak için *regular expression* modülü olan **re** kütüphanesinden yaralanıyorum."
   ]
  },
  {
   "cell_type": "code",
   "execution_count": 10,
   "id": "aea768b9",
   "metadata": {},
   "outputs": [
    {
     "data": {
      "text/plain": [
       "Int64Index([   2,    3,   15,   16,   21,   27,   35,   38,   68,   70,\n",
       "            ...\n",
       "            2863, 2867, 2869, 2870, 2871, 2882, 2885, 2886, 2890, 2891],\n",
       "           dtype='int64', length=541)"
      ]
     },
     "execution_count": 10,
     "metadata": {},
     "output_type": "execute_result"
    }
   ],
   "source": [
    "# df_t.loc[df_t['message'].str.contains(\"aranan_ifade\")].index    \n",
    "\n",
    "df_t.loc[df_t['message'].str.contains(\"n\\'t\")].index"
   ]
  },
  {
   "cell_type": "code",
   "execution_count": 11,
   "id": "7557986b",
   "metadata": {},
   "outputs": [],
   "source": [
    "import re"
   ]
  },
  {
   "cell_type": "code",
   "execution_count": 12,
   "id": "62ee627e",
   "metadata": {},
   "outputs": [],
   "source": [
    "def normz(ifade):\n",
    "    # ('t)(not) kısaltması için öncelikli olarak incelemesi gereken ifadeler\n",
    "    ifade = re.sub(r\"won't\", \"will not\", ifade)\n",
    "    ifade = re.sub(r\"can't\", \"can not\", ifade)\n",
    "    ifade = re.sub(r\"won\\'t\", \"will not\", ifade)\n",
    "    ifade = re.sub(r\"can\\'t\", \"can not\", ifade)\n",
    "    # varsayılan özel durumlar\n",
    "    ifade = re.sub(r\"n\\'t\", \" not\", ifade)\n",
    "    ifade = re.sub(r\"\\'re\", \" are\", ifade)\n",
    "    ifade= re.sub(r\"\\'s\", \" is\", ifade)\n",
    "    ifade = re.sub(r\"\\'d\", \" would\", ifade)\n",
    "    ifade = re.sub(r\"\\'ll\", \" will\", ifade)\n",
    "    ifade = re.sub(r\"\\'t\", \" not\", ifade)\n",
    "    ifade = re.sub(r\"\\'ve\", \" have\", ifade)\n",
    "    ifade = re.sub(r\"\\'m\", \" am\", ifade)\n",
    "    # boşluk bırakılan durumlar\n",
    "    ifade = re.sub(r\"n\\' t\", \" not\", ifade)\n",
    "    ifade = re.sub(r\"\\' re\", \" are\", ifade)\n",
    "    ifade = re.sub(r\"\\' s\", \" is\", ifade)\n",
    "    ifade = re.sub(r\"\\' d\", \" would\", ifade)\n",
    "    ifade = re.sub(r\"\\' ll\", \" will\", ifade)\n",
    "    ifade = re.sub(r\"\\' t\", \" not\", ifade)\n",
    "    ifade = re.sub(r\"\\' ve\", \" have\", ifade)\n",
    "    ifade = re.sub(r\"\\' m\", \" am\", ifade)\n",
    "    return ifade"
   ]
  },
  {
   "cell_type": "markdown",
   "id": "eba587bd",
   "metadata": {},
   "source": [
    "**normz** fonksiyonunda, özel durumlu kısaltmalar işlenebilirliği daha yüksek kelimelere güncellenerek geri döndürülür. Bu foknsiyonun uygulanması ile işlenebilirlik artar, veri tutarsızlığı önlenir ve performans artırılır."
   ]
  },
  {
   "cell_type": "code",
   "execution_count": 13,
   "id": "bf0e028d",
   "metadata": {},
   "outputs": [
    {
     "data": {
      "text/plain": [
       "\"riska colleague and i are researching the differing degrees of risk perceived by our hong kong students in different contexts where spoken english is required . we would be interested to find out more about research in the area of risk-taking in language learning . so far we have n't come up with much . can anyone help here ?\\n\""
      ]
     },
     "execution_count": 13,
     "metadata": {},
     "output_type": "execute_result"
    }
   ],
   "source": [
    "df_t['sub_mssg'][3] "
   ]
  },
  {
   "cell_type": "code",
   "execution_count": 14,
   "id": "4b1f760c",
   "metadata": {},
   "outputs": [
    {
     "data": {
      "text/plain": [
       "'riska colleague and i are researching the differing degrees of risk perceived by our hong kong students in different contexts where spoken english is required . we would be interested to find out more about research in the area of risk-taking in language learning . so far we have  not come up with much . can anyone help here ?\\n'"
      ]
     },
     "execution_count": 14,
     "metadata": {},
     "output_type": "execute_result"
    }
   ],
   "source": [
    "df_t['sub_mssg'] = df_t['sub_mssg'].apply(normz)\n",
    "df_t['sub_mssg'][3] "
   ]
  },
  {
   "cell_type": "markdown",
   "id": "d9c28a13",
   "metadata": {},
   "source": [
    "## Metin Temizleme"
   ]
  },
  {
   "cell_type": "markdown",
   "id": "b1d469c1",
   "metadata": {},
   "source": [
    " Metin temizleme, verilerdeki gereksiz karakterler, noktalama işaretleri, sayılar, bağlaçlar gibi unsurların temizlenmesidir."
   ]
  },
  {
   "cell_type": "code",
   "execution_count": 15,
   "id": "534b79a6",
   "metadata": {},
   "outputs": [
    {
     "data": {
      "text/plain": [
       "\"content - length : 3386 apple-iss research center a us $ 10 million joint venture between apple computer inc . and the institute of systems science of the national university of singapore , located in singapore , is looking for : a senior speech scientist - - - - - - - - - - - - - - - - - - - - - - - - - the successful candidate will have research expertise in computational linguistics , including natural language processing and * * english * * and * * chinese * * statistical language modeling . knowledge of state-of - the-art corpus-based n - gram language models , cache language models , and part-of - speech language models are required . a text - to - speech project leader - - - - - - - - - - - - - - - - - - - - - - - - - - - - - - - the successful candidate will have research expertise expertise in two or more of the following areas : computational linguistics , including natural language parsing , lexical database design , and statistical language modeling ; text tokenization and normalization ; prosodic analysis . substantial knowledge of the phonology , syntax , and semantics of chinese is required . knowledge of acoustic phonetics and / or speech signal processing is desirable . both candidates will have a phd with at least 2 to 4 years of relevant work experience , or a technical msc degree with at least 5 to 7 years of experienc e . very strong software engineering skills , including design and implementation , and productization are required in these positions . knowledge of c , c + + and unix are preferred . a unix & c programmer - - - - - - - - - - - - - - - - - - - - we are looking for an experienced unix & c programmer , preferably with good industry experience , to join us in breaking new frontiers . strong knowledge of unix tools ( compilers , linkers , make , x - windows , e - mac , . . . ) and experience in matlab required . sun and silicon graphic experience is an advantage . programmers with less than two years industry experience need not apply . these positions include interaction with scientists in the national university of singapore , and with apple 's speech research and productization efforts located in cupertino , california . attendance and publication in international scientific / engineering conferences is encouraged . benefits include an internationally competitive salary , housing subsidy , and relocation expenses . _ _ _ _ _ _ _ _ _ _ _ _ _ _ _ _ _ _ _ _ _ _ _ _ _ _ _ _ _ _ _ _ _ _ _ _ _ _ _ _ _ _ _ _ _ _ _ _ _ _ _ _ _ _ _ _ _ _ _ _ _ _ _ _ _ _ send a complete resume , enclosing personal particulars , qualifications , experience and contact telephone number to : mr jean - luc lebrun center manager apple - iss research center , institute of systems science heng mui keng terrace , singapore 0511 tel : ( 65 ) 772-6571 fax : ( 65 ) 776-4005 email : jllebrun @ iss . nus . sg\\n\""
      ]
     },
     "execution_count": 15,
     "metadata": {},
     "output_type": "execute_result"
    }
   ],
   "source": [
    "df['message'][0] "
   ]
  },
  {
   "cell_type": "markdown",
   "id": "4b417c8f",
   "metadata": {},
   "source": [
    "### Sayısal İfadeleri Temizleme"
   ]
  },
  {
   "cell_type": "code",
   "execution_count": 16,
   "id": "c6451e45",
   "metadata": {},
   "outputs": [
    {
     "data": {
      "text/plain": [
       "'job posting - apple-iss research centercontent - length : numbers apple-iss research center a us $ numbers million joint venture between apple computer inc . and the institute of systems science of the national university of singapore , located in singapore , is looking for : a senior speech scientist - - - - - - - - - - - - - - - - - - - - - - - - - the successful candidate will have research expertise in computational linguistics , including natural language processing and * * english * * and * * chinese * * statistical language modeling . knowledge of state-of - the-art corpus-based n - gram language models , cache language models , and part-of - speech language models are required . a text - to - speech project leader - - - - - - - - - - - - - - - - - - - - - - - - - - - - - - - the successful candidate will have research expertise expertise in two or more of the following areas : computational linguistics , including natural language parsing , lexical database design , and statistical language modeling ; text tokenization and normalization ; prosodic analysis . substantial knowledge of the phonology , syntax , and semantics of chinese is required . knowledge of acoustic phonetics and / or speech signal processing is desirable . both candidates will have a phd with at least numbers to numbers years of relevant work experience , or a technical msc degree with at least numbers to numbers years of experienc e . very strong software engineering skills , including design and implementation , and productization are required in these positions . knowledge of c , c + + and unix are preferred . a unix & c programmer - - - - - - - - - - - - - - - - - - - - we are looking for an experienced unix & c programmer , preferably with good industry experience , to join us in breaking new frontiers . strong knowledge of unix tools ( compilers , linkers , make , x - windows , e - mac , . . . ) and experience in matlab required . sun and silicon graphic experience is an advantage . programmers with less than two years industry experience need not apply . these positions include interaction with scientists in the national university of singapore , and with apple  is speech research and productization efforts located in cupertino , california . attendance and publication in international scientific / engineering conferences is encouraged . benefits include an internationally competitive salary , housing subsidy , and relocation expenses . _ _ _ _ _ _ _ _ _ _ _ _ _ _ _ _ _ _ _ _ _ _ _ _ _ _ _ _ _ _ _ _ _ _ _ _ _ _ _ _ _ _ _ _ _ _ _ _ _ _ _ _ _ _ _ _ _ _ _ _ _ _ _ _ _ _ send a complete resume , enclosing personal particulars , qualifications , experience and contact telephone number to : mr jean - luc lebrun center manager apple - iss research center , institute of systems science heng mui keng terrace , singapore numbers tel : ( numbers ) numbers-numbers fax : ( numbers ) numbers-numbers email : jllebrun @ iss . nus . sg\\n'"
      ]
     },
     "execution_count": 16,
     "metadata": {},
     "output_type": "execute_result"
    }
   ],
   "source": [
    "df_t['sub_mssg'] = df_t['sub_mssg'].str.replace(r'\\d+(\\.\\d+)?', 'numbers', regex=True)\n",
    "df_t['sub_mssg'][0]"
   ]
  },
  {
   "cell_type": "markdown",
   "id": "0690febe",
   "metadata": {},
   "source": [
    "### Diğer Gereksiz İfadeleri Temizleme"
   ]
  },
  {
   "cell_type": "markdown",
   "id": "b51d2ebf",
   "metadata": {},
   "source": [
    " Bu değişiklikler, metinlerin daha temiz bir hale getirilmesine ve analiz edilmesine yardımcı olur."
   ]
  },
  {
   "cell_type": "code",
   "execution_count": 17,
   "id": "3e5e6296",
   "metadata": {},
   "outputs": [],
   "source": [
    "\n",
    "df_t['sub_mssg']=df_t['sub_mssg'].str.lower() # Küçük harfe dönüştürme\n",
    "\n",
    "df_t['sub_mssg']=df_t['sub_mssg'].str.replace(r'\\n',\" \",regex=True) # satır başı karakterlerini boşluk karakteriyle değiştirir\n",
    "\n",
    "df_t['sub_mssg']=df_t['sub_mssg'].str.replace(r'^.+@[^\\.].*\\.[a-z]{2,}$','MailID',regex=True) #  xyz@xmail.com -> MailID\n",
    "\n",
    "df_t['sub_mssg']=df_t['sub_mssg'].str.replace(r'^http\\://[a-zA-Z0-9\\-\\.]+\\.[a-zA-Z]{2,3}(/\\S*)?$','Links',regex=True) # abc.com -> Links\n",
    "\n",
    "df_t['sub_mssg']=df_t['sub_mssg'].str.replace(r'£|\\$', 'Money',regex=True)  # Para birimi karakterleri -> Money\n",
    "\n",
    "df_t['sub_mssg']=df_t['sub_mssg'].str.replace(r'\\s+', ' ',regex=True)  # Birden fazla boşluk karakteri\n",
    "\n",
    "df_t['sub_mssg']=df_t['sub_mssg'].str.replace(r'^\\s+|\\s+?$', '',regex=True) # Başta ve sonda bulunan birden fazla boşluk\n",
    "\n",
    "df_t['sub_mssg']=df_t['sub_mssg'].str.replace(r'^\\(?[\\d]{3}\\)?[\\s-]?[\\d]{3}[\\s-]?[\\d]{4}$','contact number',regex=True)#0850... -> contact number\n",
    "\n",
    "df_t['sub_mssg']=df_t['sub_mssg'].str.replace(r\"[^a-zA-Z0-9]+\", \" \",regex=True) #  Alfanumerik olmayan karakterler"
   ]
  },
  {
   "cell_type": "code",
   "execution_count": 18,
   "id": "872c8268",
   "metadata": {},
   "outputs": [
    {
     "data": {
      "text/plain": [
       "'sociolinguisticslang classification grimes joseph e and barbara f grimes ethnologue language family index pb isbn numbers numbers numbers numbers vi numbers pp Money numbers numbers summer institute of linguistics this companion volume to ethnologue languages of the world twelfth edition lists language families of the world with sub groups shown in a tree arrangement under the broadest classification of language family the language family index facilitates locating language names in the ethnologue making the data there more accessible internet academic books sil org languages reference lang culture gregerson marilyn ritual belief and kinship in sulawesi pb isbn numbers numbers numbers numbers ix numbers pp Money numbers numbers summer institute of linguistics seven articles discuss five language groups in sulawesi indonesia the primary focus is on cultural matters with some linguistic content topics include traditional religion and beliefs certain ceremonies and kinship internet academic books sil org language and society indonesia computers ling weber david j stephen r mcconnel diana d weber and beth j bryson primer a tool for developing early reading materials pb isbn numbers numbers numbers numbers xvi numbers pp ms dos software Money numbers numbers summer institute of linguistics the authors present a computer program and instructions for developing reading materials in languages with little or no background in literacy the book is structured as a how to manual with step by step procedures to establish an appropriate primer sequence and to organize words phrases and sentences that correlate with the sequence it presupposes a thorough knowledge of linguistics internet academic books sil org literacy computer'"
      ]
     },
     "execution_count": 18,
     "metadata": {},
     "output_type": "execute_result"
    }
   ],
   "source": [
    "df_t['sub_mssg'][1]"
   ]
  },
  {
   "cell_type": "markdown",
   "id": "7af0b90f",
   "metadata": {},
   "source": [
    "Bu şekilde verilerimizin işlenebilirliği yükseldi."
   ]
  },
  {
   "cell_type": "code",
   "execution_count": 19,
   "id": "b2e80fc7",
   "metadata": {},
   "outputs": [
    {
     "data": {
      "text/html": [
       "<div>\n",
       "<style scoped>\n",
       "    .dataframe tbody tr th:only-of-type {\n",
       "        vertical-align: middle;\n",
       "    }\n",
       "\n",
       "    .dataframe tbody tr th {\n",
       "        vertical-align: top;\n",
       "    }\n",
       "\n",
       "    .dataframe thead th {\n",
       "        text-align: right;\n",
       "    }\n",
       "</style>\n",
       "<table border=\"1\" class=\"dataframe\">\n",
       "  <thead>\n",
       "    <tr style=\"text-align: right;\">\n",
       "      <th></th>\n",
       "      <th>subject</th>\n",
       "      <th>message</th>\n",
       "      <th>label</th>\n",
       "      <th>sub_mssg</th>\n",
       "      <th>length</th>\n",
       "    </tr>\n",
       "  </thead>\n",
       "  <tbody>\n",
       "    <tr>\n",
       "      <th>0</th>\n",
       "      <td>job posting - apple-iss research center</td>\n",
       "      <td>content - length : 3386 apple-iss research cen...</td>\n",
       "      <td>0</td>\n",
       "      <td>job posting apple iss research centercontent l...</td>\n",
       "      <td>2895</td>\n",
       "    </tr>\n",
       "    <tr>\n",
       "      <th>1</th>\n",
       "      <td>sociolinguistics</td>\n",
       "      <td>lang classification grimes , joseph e . and ba...</td>\n",
       "      <td>0</td>\n",
       "      <td>sociolinguisticslang classification grimes jos...</td>\n",
       "      <td>1816</td>\n",
       "    </tr>\n",
       "    <tr>\n",
       "      <th>2</th>\n",
       "      <td>query : letter frequencies for text identifica...</td>\n",
       "      <td>i am posting this inquiry for sergei atamas ( ...</td>\n",
       "      <td>0</td>\n",
       "      <td>query letter frequencies for text identificati...</td>\n",
       "      <td>1485</td>\n",
       "    </tr>\n",
       "    <tr>\n",
       "      <th>3</th>\n",
       "      <td>risk</td>\n",
       "      <td>a colleague and i are researching the differin...</td>\n",
       "      <td>0</td>\n",
       "      <td>riska colleague and i are researching the diff...</td>\n",
       "      <td>328</td>\n",
       "    </tr>\n",
       "    <tr>\n",
       "      <th>4</th>\n",
       "      <td>request book information</td>\n",
       "      <td>earlier this morning i was on the phone with a...</td>\n",
       "      <td>0</td>\n",
       "      <td>request book informationearlier this morning i...</td>\n",
       "      <td>1070</td>\n",
       "    </tr>\n",
       "  </tbody>\n",
       "</table>\n",
       "</div>"
      ],
      "text/plain": [
       "                                             subject  \\\n",
       "0            job posting - apple-iss research center   \n",
       "1                                   sociolinguistics   \n",
       "2  query : letter frequencies for text identifica...   \n",
       "3                                               risk   \n",
       "4                           request book information   \n",
       "\n",
       "                                             message  label  \\\n",
       "0  content - length : 3386 apple-iss research cen...      0   \n",
       "1  lang classification grimes , joseph e . and ba...      0   \n",
       "2  i am posting this inquiry for sergei atamas ( ...      0   \n",
       "3  a colleague and i are researching the differin...      0   \n",
       "4  earlier this morning i was on the phone with a...      0   \n",
       "\n",
       "                                            sub_mssg  length  \n",
       "0  job posting apple iss research centercontent l...    2895  \n",
       "1  sociolinguisticslang classification grimes jos...    1816  \n",
       "2  query letter frequencies for text identificati...    1485  \n",
       "3  riska colleague and i are researching the diff...     328  \n",
       "4  request book informationearlier this morning i...    1070  "
      ]
     },
     "execution_count": 19,
     "metadata": {},
     "output_type": "execute_result"
    }
   ],
   "source": [
    "df_t.head()"
   ]
  },
  {
   "cell_type": "markdown",
   "id": "c9fec00b",
   "metadata": {},
   "source": [
    "## Metin Dönüştürme"
   ]
  },
  {
   "cell_type": "markdown",
   "id": "57de935a",
   "metadata": {},
   "source": [
    "İlk olarak basit bir metin dönüştürme yöntemi olan **Stopwords** yöntemini uygulayacağım. Stopwords, metindeki yaygın kelimeleri (örneğin \"the\", \"and\", \"in\" gibi) çıkarmak için kullanılır ve makine öğrenimi modelleri tarafından kullanılmayan, anlamsız kelimeleri temizlemek için tasarlanmıştır."
   ]
  },
  {
   "cell_type": "code",
   "execution_count": 20,
   "id": "4b19abc7",
   "metadata": {},
   "outputs": [],
   "source": [
    "\n",
    "import nltk\n",
    "from nltk.corpus import stopwords \n",
    "# Stop words, dilbilgisi açısından önemli olmayan kelimelerdir ve bir metnin anlamını \n",
    "# belirleyen önemli kelimeler değildir.Örneğin, İngilizce stop words listesinde \"the\", \"and\", \"a\", \"an\", \"in\" vb.\n",
    "\n",
    "# nltk.download('stopwords') # Stopwords dosyasının indirilmesi, indirilip yorum satırı haline getirildi\n",
    "\n",
    "# stop words verilerini içeren nesneyi oluşturma:\n",
    "stop = stopwords.words('english')\n",
    "\n",
    "# stopwords'ları silme ve yeni özellik oluşturma:\n",
    "df_t['Cleaned_Text'] = df_t['sub_mssg'].apply(lambda x: ' '.join([word for word in x.split() if word not in (stop)]))"
   ]
  },
  {
   "cell_type": "code",
   "execution_count": 21,
   "id": "7ebbb21b",
   "metadata": {},
   "outputs": [
    {
     "data": {
      "text/html": [
       "<div>\n",
       "<style scoped>\n",
       "    .dataframe tbody tr th:only-of-type {\n",
       "        vertical-align: middle;\n",
       "    }\n",
       "\n",
       "    .dataframe tbody tr th {\n",
       "        vertical-align: top;\n",
       "    }\n",
       "\n",
       "    .dataframe thead th {\n",
       "        text-align: right;\n",
       "    }\n",
       "</style>\n",
       "<table border=\"1\" class=\"dataframe\">\n",
       "  <thead>\n",
       "    <tr style=\"text-align: right;\">\n",
       "      <th></th>\n",
       "      <th>subject</th>\n",
       "      <th>message</th>\n",
       "      <th>label</th>\n",
       "      <th>sub_mssg</th>\n",
       "      <th>length</th>\n",
       "      <th>Cleaned_Text</th>\n",
       "    </tr>\n",
       "  </thead>\n",
       "  <tbody>\n",
       "    <tr>\n",
       "      <th>0</th>\n",
       "      <td>job posting - apple-iss research center</td>\n",
       "      <td>content - length : 3386 apple-iss research cen...</td>\n",
       "      <td>0</td>\n",
       "      <td>job posting apple iss research centercontent l...</td>\n",
       "      <td>2895</td>\n",
       "      <td>job posting apple iss research centercontent l...</td>\n",
       "    </tr>\n",
       "    <tr>\n",
       "      <th>1</th>\n",
       "      <td>sociolinguistics</td>\n",
       "      <td>lang classification grimes , joseph e . and ba...</td>\n",
       "      <td>0</td>\n",
       "      <td>sociolinguisticslang classification grimes jos...</td>\n",
       "      <td>1816</td>\n",
       "      <td>sociolinguisticslang classification grimes jos...</td>\n",
       "    </tr>\n",
       "    <tr>\n",
       "      <th>2</th>\n",
       "      <td>query : letter frequencies for text identifica...</td>\n",
       "      <td>i am posting this inquiry for sergei atamas ( ...</td>\n",
       "      <td>0</td>\n",
       "      <td>query letter frequencies for text identificati...</td>\n",
       "      <td>1485</td>\n",
       "      <td>query letter frequencies text identificationi ...</td>\n",
       "    </tr>\n",
       "    <tr>\n",
       "      <th>3</th>\n",
       "      <td>risk</td>\n",
       "      <td>a colleague and i are researching the differin...</td>\n",
       "      <td>0</td>\n",
       "      <td>riska colleague and i are researching the diff...</td>\n",
       "      <td>328</td>\n",
       "      <td>riska colleague researching differing degrees ...</td>\n",
       "    </tr>\n",
       "    <tr>\n",
       "      <th>4</th>\n",
       "      <td>request book information</td>\n",
       "      <td>earlier this morning i was on the phone with a...</td>\n",
       "      <td>0</td>\n",
       "      <td>request book informationearlier this morning i...</td>\n",
       "      <td>1070</td>\n",
       "      <td>request book informationearlier morning phone ...</td>\n",
       "    </tr>\n",
       "  </tbody>\n",
       "</table>\n",
       "</div>"
      ],
      "text/plain": [
       "                                             subject  \\\n",
       "0            job posting - apple-iss research center   \n",
       "1                                   sociolinguistics   \n",
       "2  query : letter frequencies for text identifica...   \n",
       "3                                               risk   \n",
       "4                           request book information   \n",
       "\n",
       "                                             message  label  \\\n",
       "0  content - length : 3386 apple-iss research cen...      0   \n",
       "1  lang classification grimes , joseph e . and ba...      0   \n",
       "2  i am posting this inquiry for sergei atamas ( ...      0   \n",
       "3  a colleague and i are researching the differin...      0   \n",
       "4  earlier this morning i was on the phone with a...      0   \n",
       "\n",
       "                                            sub_mssg  length  \\\n",
       "0  job posting apple iss research centercontent l...    2895   \n",
       "1  sociolinguisticslang classification grimes jos...    1816   \n",
       "2  query letter frequencies for text identificati...    1485   \n",
       "3  riska colleague and i are researching the diff...     328   \n",
       "4  request book informationearlier this morning i...    1070   \n",
       "\n",
       "                                        Cleaned_Text  \n",
       "0  job posting apple iss research centercontent l...  \n",
       "1  sociolinguisticslang classification grimes jos...  \n",
       "2  query letter frequencies text identificationi ...  \n",
       "3  riska colleague researching differing degrees ...  \n",
       "4  request book informationearlier morning phone ...  "
      ]
     },
     "execution_count": 21,
     "metadata": {},
     "output_type": "execute_result"
    }
   ],
   "source": [
    "df_t.head()"
   ]
  },
  {
   "cell_type": "code",
   "execution_count": 22,
   "id": "90dfea61",
   "metadata": {},
   "outputs": [
    {
     "data": {
      "text/html": [
       "<div>\n",
       "<style scoped>\n",
       "    .dataframe tbody tr th:only-of-type {\n",
       "        vertical-align: middle;\n",
       "    }\n",
       "\n",
       "    .dataframe tbody tr th {\n",
       "        vertical-align: top;\n",
       "    }\n",
       "\n",
       "    .dataframe thead th {\n",
       "        text-align: right;\n",
       "    }\n",
       "</style>\n",
       "<table border=\"1\" class=\"dataframe\">\n",
       "  <thead>\n",
       "    <tr style=\"text-align: right;\">\n",
       "      <th></th>\n",
       "      <th>subject</th>\n",
       "      <th>message</th>\n",
       "      <th>label</th>\n",
       "      <th>sub_mssg</th>\n",
       "      <th>length</th>\n",
       "      <th>Cleaned_Text</th>\n",
       "      <th>clean_length</th>\n",
       "    </tr>\n",
       "  </thead>\n",
       "  <tbody>\n",
       "    <tr>\n",
       "      <th>0</th>\n",
       "      <td>job posting - apple-iss research center</td>\n",
       "      <td>content - length : 3386 apple-iss research cen...</td>\n",
       "      <td>0</td>\n",
       "      <td>job posting apple iss research centercontent l...</td>\n",
       "      <td>2895</td>\n",
       "      <td>job posting apple iss research centercontent l...</td>\n",
       "      <td>2108</td>\n",
       "    </tr>\n",
       "    <tr>\n",
       "      <th>1</th>\n",
       "      <td>sociolinguistics</td>\n",
       "      <td>lang classification grimes , joseph e . and ba...</td>\n",
       "      <td>0</td>\n",
       "      <td>sociolinguisticslang classification grimes jos...</td>\n",
       "      <td>1816</td>\n",
       "      <td>sociolinguisticslang classification grimes jos...</td>\n",
       "      <td>1506</td>\n",
       "    </tr>\n",
       "    <tr>\n",
       "      <th>2</th>\n",
       "      <td>query : letter frequencies for text identifica...</td>\n",
       "      <td>i am posting this inquiry for sergei atamas ( ...</td>\n",
       "      <td>0</td>\n",
       "      <td>query letter frequencies for text identificati...</td>\n",
       "      <td>1485</td>\n",
       "      <td>query letter frequencies text identificationi ...</td>\n",
       "      <td>1148</td>\n",
       "    </tr>\n",
       "    <tr>\n",
       "      <th>3</th>\n",
       "      <td>risk</td>\n",
       "      <td>a colleague and i are researching the differin...</td>\n",
       "      <td>0</td>\n",
       "      <td>riska colleague and i are researching the diff...</td>\n",
       "      <td>328</td>\n",
       "      <td>riska colleague researching differing degrees ...</td>\n",
       "      <td>214</td>\n",
       "    </tr>\n",
       "    <tr>\n",
       "      <th>4</th>\n",
       "      <td>request book information</td>\n",
       "      <td>earlier this morning i was on the phone with a...</td>\n",
       "      <td>0</td>\n",
       "      <td>request book informationearlier this morning i...</td>\n",
       "      <td>1070</td>\n",
       "      <td>request book informationearlier morning phone ...</td>\n",
       "      <td>653</td>\n",
       "    </tr>\n",
       "  </tbody>\n",
       "</table>\n",
       "</div>"
      ],
      "text/plain": [
       "                                             subject  \\\n",
       "0            job posting - apple-iss research center   \n",
       "1                                   sociolinguistics   \n",
       "2  query : letter frequencies for text identifica...   \n",
       "3                                               risk   \n",
       "4                           request book information   \n",
       "\n",
       "                                             message  label  \\\n",
       "0  content - length : 3386 apple-iss research cen...      0   \n",
       "1  lang classification grimes , joseph e . and ba...      0   \n",
       "2  i am posting this inquiry for sergei atamas ( ...      0   \n",
       "3  a colleague and i are researching the differin...      0   \n",
       "4  earlier this morning i was on the phone with a...      0   \n",
       "\n",
       "                                            sub_mssg  length  \\\n",
       "0  job posting apple iss research centercontent l...    2895   \n",
       "1  sociolinguisticslang classification grimes jos...    1816   \n",
       "2  query letter frequencies for text identificati...    1485   \n",
       "3  riska colleague and i are researching the diff...     328   \n",
       "4  request book informationearlier this morning i...    1070   \n",
       "\n",
       "                                        Cleaned_Text  clean_length  \n",
       "0  job posting apple iss research centercontent l...          2108  \n",
       "1  sociolinguisticslang classification grimes jos...          1506  \n",
       "2  query letter frequencies text identificationi ...          1148  \n",
       "3  riska colleague researching differing degrees ...           214  \n",
       "4  request book informationearlier morning phone ...           653  "
      ]
     },
     "execution_count": 22,
     "metadata": {},
     "output_type": "execute_result"
    }
   ],
   "source": [
    "df_t['clean_length']=df_t['Cleaned_Text'].apply(len)\n",
    "df_t.head()"
   ]
  },
  {
   "cell_type": "markdown",
   "id": "deb40963",
   "metadata": {},
   "source": [
    "Elimde toplamda 3 tane uzunluk parametresi oluştu. length, orijinal uzunluk. prep_length, gereksiz karakterlerin kaldırıldığı mesaj uzunluğu. clean_length, hem gereksiz karakterlerin hem de manasız kelimelerin kaldırıldığı mesaj uzunluğunu ifade ediyor."
   ]
  },
  {
   "cell_type": "markdown",
   "id": "d9103edf",
   "metadata": {},
   "source": [
    "Artık elimde, tamamen ön işleme adımlarından geçirilmiş bir mesaj içeriği olduğu için diğer mesaj niteliklerini veri setinden çıkarıyorum."
   ]
  },
  {
   "cell_type": "code",
   "execution_count": 23,
   "id": "a23495ce",
   "metadata": {},
   "outputs": [
    {
     "data": {
      "text/html": [
       "<div>\n",
       "<style scoped>\n",
       "    .dataframe tbody tr th:only-of-type {\n",
       "        vertical-align: middle;\n",
       "    }\n",
       "\n",
       "    .dataframe tbody tr th {\n",
       "        vertical-align: top;\n",
       "    }\n",
       "\n",
       "    .dataframe thead th {\n",
       "        text-align: right;\n",
       "    }\n",
       "</style>\n",
       "<table border=\"1\" class=\"dataframe\">\n",
       "  <thead>\n",
       "    <tr style=\"text-align: right;\">\n",
       "      <th></th>\n",
       "      <th>label</th>\n",
       "      <th>orj_length</th>\n",
       "      <th>Cleaned_Text</th>\n",
       "      <th>clean_length</th>\n",
       "    </tr>\n",
       "  </thead>\n",
       "  <tbody>\n",
       "    <tr>\n",
       "      <th>0</th>\n",
       "      <td>0</td>\n",
       "      <td>2895</td>\n",
       "      <td>job posting apple iss research centercontent l...</td>\n",
       "      <td>2108</td>\n",
       "    </tr>\n",
       "    <tr>\n",
       "      <th>1</th>\n",
       "      <td>0</td>\n",
       "      <td>1816</td>\n",
       "      <td>sociolinguisticslang classification grimes jos...</td>\n",
       "      <td>1506</td>\n",
       "    </tr>\n",
       "    <tr>\n",
       "      <th>2</th>\n",
       "      <td>0</td>\n",
       "      <td>1485</td>\n",
       "      <td>query letter frequencies text identificationi ...</td>\n",
       "      <td>1148</td>\n",
       "    </tr>\n",
       "    <tr>\n",
       "      <th>3</th>\n",
       "      <td>0</td>\n",
       "      <td>328</td>\n",
       "      <td>riska colleague researching differing degrees ...</td>\n",
       "      <td>214</td>\n",
       "    </tr>\n",
       "    <tr>\n",
       "      <th>4</th>\n",
       "      <td>0</td>\n",
       "      <td>1070</td>\n",
       "      <td>request book informationearlier morning phone ...</td>\n",
       "      <td>653</td>\n",
       "    </tr>\n",
       "  </tbody>\n",
       "</table>\n",
       "</div>"
      ],
      "text/plain": [
       "   label  orj_length                                       Cleaned_Text  \\\n",
       "0      0        2895  job posting apple iss research centercontent l...   \n",
       "1      0        1816  sociolinguisticslang classification grimes jos...   \n",
       "2      0        1485  query letter frequencies text identificationi ...   \n",
       "3      0         328  riska colleague researching differing degrees ...   \n",
       "4      0        1070  request book informationearlier morning phone ...   \n",
       "\n",
       "   clean_length  \n",
       "0          2108  \n",
       "1          1506  \n",
       "2          1148  \n",
       "3           214  \n",
       "4           653  "
      ]
     },
     "execution_count": 23,
     "metadata": {},
     "output_type": "execute_result"
    }
   ],
   "source": [
    "df_t.drop('subject',axis=1,inplace=True)\n",
    "df_t.drop('message',axis=1,inplace=True)\n",
    "df_t.drop('sub_mssg',axis=1,inplace=True)\n",
    "df_t.rename(columns={'length': 'orj_length'}, inplace=True)\n",
    "df_t.head()"
   ]
  },
  {
   "cell_type": "code",
   "execution_count": 24,
   "id": "cdb5e728",
   "metadata": {},
   "outputs": [
    {
     "data": {
      "text/plain": [
       "'note : we do not wish to send e-mail to anyone that does not want it so please send an e-mail to : remove929 @ yahoo . com you will be removed promptly . * * * * * * * * * * * * * * * * * * * * * * * * * * * * * * * * * * * * * * * * * * * * * * * * * * * * * * * * * * * * * * * * * \" the internet success toolbox \" the most complete marketing software package available anywhere ! this is what you will receive on cd-rom : 1 . stealth mass mailer ( $ 399 . 00 value ) - this unique , first of it \\'s kind - software that allows you to easily send 250 , 000 e-mail messages an hour . simply enough by making a single connection to the internet using a standard modem , and connecting to either 20 different mail servers , or a single mail server 20 times . this , easy to use , software is designed for the basic computer user to understand . it \\'s as easy as imputing the mail server , selecting the list of e-mail recipients to send to , inserting your e-mail address , adding your subject line , selecting your sales letter , and pressing send . 2 . e - mail pro extractor ( $ 350 . 00 value ) - this one of a kind software program is designed to manage and clean up any list of e-mail addresses . it will purge duplicates , manage removes and delete undeliverables . it will also separate and categorize your list of e-mail addresses by domain names . the e - mail pro version 4 . 0 bulk e - mail loader also imports simple text files that anyone can download from aol , compuserve , the internet , etc . . . these text files contain classified ads , forum messages , or data from the member directory . each of these files are filled with e-mail addresses . 3 . check deposit system ( $ 125 . 00 value ) - check deposit system version 2 . 1 is a state of the art , revolutionary software that allows you to easily and legally process checks by fax , phone or internet . the customer \\'s signature on the check is not necessary . 4 . 16 million e - mail addresses ( $ 149 . 00 value ) - we took a total of over 92 million e-mail addresses from many of the touted cd \\'s that are out there ( bought them all - some were $ 300 + ) ! we added the millions we had in storage to those . when we combined them all , we had in excess of 100 + million addresses in one huge file . we then ran a super \" sort / de-dupe \" program against this huge list . it cut the file down to less than 25 million ! ! we then ran a program that contained 150 + keywords to remove addresses with vulgarity , profanity , sex-related names , postmaster , webmaster , flamer , abuse , spam , etc . . . also we eliminated all . edu , . mil . , org . , gov . , etc . . . after that list was run against the remaining list , it reduced it down to near 16 million addresses ! so , you see , our list will save people hundreds of dollars buying all others that are out there on cd . using ours will be like using the 100 + million that we started with , but a lot less money and a lot less time ! if you order \" the internet success toolbox \" for $ 395 . 00 within the next 7 days , you \\' ll also receive the following awesome bonuses absolutely free . a value of over $ 600 . 00 ! ! ! to order : _ _ _ _ yes ! i \\' m bursting with anticipation ! please send me \" the internet success toolbox \" so i can start advertising my business to \" millions of people \" - absolutely free ! i \\' m anxious to see how others are creating immediate \" cash-flow explosions \" , and eliminating most of their advertising and marketing costs - and how i can do the same ! enclosed is $ 395 . _ _ _ _ yes again ! because i \\' m responding within 7 days , i will receive 6 bonuses with a total value of $ 663 . 90 - absolutely free ! they include : bonus # 1 ( $ 39 value ) : \" search engine secrets \" - discover the most powerful and proven strategies that really work to place you at the top of the search engines ! bonus # 2 ( $ 195 value ) : a free one year subcription to \" the internet success toolbox newsletter \" - my ticket to marketing and internet cash flow heaven ! bonus # 3 ( $ 39 . 95 value ) : your hotline list of \" 7000 free classified ad sites on the internet \" - a virtual goldmine ! bonus # 4 ( $ 19 . 95 value ) : a free special report titled \" how to put your business on automatic pilot and turn your marketing system into a predictable , turnkey , cash - flow machine that keeps on working - even when you do n\\'t ! ! \" bonus # 5 ( $ 195 value ) : unlimited technical support . even though \" the internet success toolbox \" will be simple to use , it \\'s great to know support is always available - if and when you really need it ! and last but not least . . . . bonus # 6 ( $ 175 value ) : order within 7 days and i \\' ll also throw in a free vacation certificate good for 3 days and 2 nights of free lodging at one of over 30 \" premier \" resorts . some vacation spots you can choose from include : hawaii ; orlando , fl ; las vegas ; atlantic city ; palm springs ; aruba - in the south carribean ; cancun , mexico ; and many , many more ! hey , when you start making a ton of money , you \\' ll wanna do some celebrating , won\\'t you ? so start packing those bags ! that \\'s it . a lot more than you bargained for is n\\'t it ? when you total all the goodies up , you \\' re looking as a total value of $ 663 . 90 ! all yours - absolutely free - with your purchase of our amazing package \" the internet success toolbox \" for only $ 395 . 00 . and i \\' ll even pay for shipping your package . you can have it in days . and start making money the very same day ! anyway , i have a copy right here on my desk reserved for you . all i need is your go ahead and i \\' ll rush it out to you along with your 6 free bonuses . name _ _ _ _ _ _ _ _ _ _ _ _ _ _ _ _ _ _ _ _ _ _ _ _ _ _ _ _ _ _ _ _ _ _ _ _ _ _ _ _ _ _ _ _ _ _ _ _ _ _ _ _ _ street address _ _ _ _ _ _ _ _ _ _ _ _ _ _ _ _ _ _ _ _ _ _ _ _ _ _ _ _ _ _ _ _ _ _ _ _ _ _ _ _ _ _ _ _ city ) _ _ _ _ _ _ _ _ _ _ _ _ _ _ _ _ _ _ state _ _ _ _ _ _ _ zip _ _ _ _ _ _ _ _ _ _ _ _ _ phone # ( _ _ _ _ _ ) _ _ _ _ _ _ _ _ _ _ _ _ _ _ _ _ _ _ _ _ _ _ _ _ _ _ _ fax # ( _ _ _ _ _ _ ) _ _ _ _ _ _ _ _ _ _ _ _ _ _ _ _ _ _ _ _ _ e - mail address _ _ _ _ _ _ _ _ _ _ _ _ _ _ _ _ _ _ _ _ _ _ _ _ _ _ _ _ visa _ _ _ mastercard total : $ _ _ _ _ _ _ _ _ account number _ _ _ _ _ _ _ _ _ _ _ _ _ _ _ _ _ _ _ _ _ expiration date _ _ _ _ _ _ _ _ _ _ _ _ _ _ _ _ _ _ _ _ i understand that all sales are final . _ _ _ _ _ _ _ _ _ _ _ _ _ _ _ _ _ _ _ _ _ _ _ _ _ _ _ _ _ _ _ _ _ _ _ _ signature to order by check : * * * * * * * * * * * * * * * * * * * * * * * * * * * * * * * * * * * * * * * * * * * * * * * * * * * * * * * * * * * tape or paste your check here fax it to us at : ( 425 ) 379-9722 you do not need to send a hard copy of your check . the fax is all we need . ( we are able to perform this service using our check deposit system software ) * * * * * * * * * * * * * * * * * * * * * * * * * * * * * * * * * * * * * * * * * * * * * * * * * * * * * * * * * * * * * orders by credit card are shipped immediately . fax completed order form to : ( 425 ) 379-9722 * orders by personal , business or credit card check are shipped in 7-10 business days . * orders mailed in or overnighted with cashier \\' s check or money order are shipped immediately . mail to : sys 11014 19th ave se suite 305 everett , wa 98208 . - - - - - - - - - - - - - - - - - - - - - - - - - - - - - - - - - - - - - - - -\\n'"
      ]
     },
     "execution_count": 24,
     "metadata": {},
     "output_type": "execute_result"
    }
   ],
   "source": [
    "df['message'][38] # orijinal içerik ile arakadaki farkı görmek için df_t['Cleaned_Text'][38] içeriğini çağıralım\n",
    "#df_t['Cleaned_Text'][38]"
   ]
  },
  {
   "cell_type": "markdown",
   "id": "ad90c935",
   "metadata": {},
   "source": [
    "Orijinal uzunluk ve temizlenmiş içeriğin uzunluğu arasındaki fark bize manasız ifadelerin sayısını verecektir. Spam mail içeriklerinde bulunan (!, $, 1-9, *, -) vb. ifadelerin sıklığının fazla olması, spam mail tespitinde yararlı bir parametre olarak kullanılabilir. Bu yüzden orj_length ve clean_length 'in farklarının alındığı yeni bir özellik oluşturacağım."
   ]
  },
  {
   "cell_type": "code",
   "execution_count": 25,
   "id": "e79474ef",
   "metadata": {},
   "outputs": [
    {
     "data": {
      "text/html": [
       "<div>\n",
       "<style scoped>\n",
       "    .dataframe tbody tr th:only-of-type {\n",
       "        vertical-align: middle;\n",
       "    }\n",
       "\n",
       "    .dataframe tbody tr th {\n",
       "        vertical-align: top;\n",
       "    }\n",
       "\n",
       "    .dataframe thead th {\n",
       "        text-align: right;\n",
       "    }\n",
       "</style>\n",
       "<table border=\"1\" class=\"dataframe\">\n",
       "  <thead>\n",
       "    <tr style=\"text-align: right;\">\n",
       "      <th></th>\n",
       "      <th>label</th>\n",
       "      <th>orj_length</th>\n",
       "      <th>Cleaned_Text</th>\n",
       "      <th>clean_length</th>\n",
       "      <th>diff_length</th>\n",
       "    </tr>\n",
       "  </thead>\n",
       "  <tbody>\n",
       "    <tr>\n",
       "      <th>0</th>\n",
       "      <td>0</td>\n",
       "      <td>2895</td>\n",
       "      <td>job posting apple iss research centercontent l...</td>\n",
       "      <td>2108</td>\n",
       "      <td>787</td>\n",
       "    </tr>\n",
       "    <tr>\n",
       "      <th>1</th>\n",
       "      <td>0</td>\n",
       "      <td>1816</td>\n",
       "      <td>sociolinguisticslang classification grimes jos...</td>\n",
       "      <td>1506</td>\n",
       "      <td>310</td>\n",
       "    </tr>\n",
       "    <tr>\n",
       "      <th>2</th>\n",
       "      <td>0</td>\n",
       "      <td>1485</td>\n",
       "      <td>query letter frequencies text identificationi ...</td>\n",
       "      <td>1148</td>\n",
       "      <td>337</td>\n",
       "    </tr>\n",
       "    <tr>\n",
       "      <th>3</th>\n",
       "      <td>0</td>\n",
       "      <td>328</td>\n",
       "      <td>riska colleague researching differing degrees ...</td>\n",
       "      <td>214</td>\n",
       "      <td>114</td>\n",
       "    </tr>\n",
       "    <tr>\n",
       "      <th>4</th>\n",
       "      <td>0</td>\n",
       "      <td>1070</td>\n",
       "      <td>request book informationearlier morning phone ...</td>\n",
       "      <td>653</td>\n",
       "      <td>417</td>\n",
       "    </tr>\n",
       "  </tbody>\n",
       "</table>\n",
       "</div>"
      ],
      "text/plain": [
       "   label  orj_length                                       Cleaned_Text  \\\n",
       "0      0        2895  job posting apple iss research centercontent l...   \n",
       "1      0        1816  sociolinguisticslang classification grimes jos...   \n",
       "2      0        1485  query letter frequencies text identificationi ...   \n",
       "3      0         328  riska colleague researching differing degrees ...   \n",
       "4      0        1070  request book informationearlier morning phone ...   \n",
       "\n",
       "   clean_length  diff_length  \n",
       "0          2108          787  \n",
       "1          1506          310  \n",
       "2          1148          337  \n",
       "3           214          114  \n",
       "4           653          417  "
      ]
     },
     "execution_count": 25,
     "metadata": {},
     "output_type": "execute_result"
    }
   ],
   "source": [
    "df_t['diff_length'] = df_t['orj_length'] - df_t['clean_length']\n",
    "df_t.head()"
   ]
  },
  {
   "cell_type": "markdown",
   "id": "312b97aa",
   "metadata": {},
   "source": [
    "Artık diğer uzunluk verilerine ihtiyacım olmadığı için onları veri setinden çıkarıyorum."
   ]
  },
  {
   "cell_type": "code",
   "execution_count": 26,
   "id": "bf275f3f",
   "metadata": {},
   "outputs": [
    {
     "data": {
      "text/html": [
       "<div>\n",
       "<style scoped>\n",
       "    .dataframe tbody tr th:only-of-type {\n",
       "        vertical-align: middle;\n",
       "    }\n",
       "\n",
       "    .dataframe tbody tr th {\n",
       "        vertical-align: top;\n",
       "    }\n",
       "\n",
       "    .dataframe thead th {\n",
       "        text-align: right;\n",
       "    }\n",
       "</style>\n",
       "<table border=\"1\" class=\"dataframe\">\n",
       "  <thead>\n",
       "    <tr style=\"text-align: right;\">\n",
       "      <th></th>\n",
       "      <th>label</th>\n",
       "      <th>Cleaned_Text</th>\n",
       "      <th>diff_length</th>\n",
       "    </tr>\n",
       "  </thead>\n",
       "  <tbody>\n",
       "    <tr>\n",
       "      <th>0</th>\n",
       "      <td>0</td>\n",
       "      <td>job posting apple iss research centercontent l...</td>\n",
       "      <td>787</td>\n",
       "    </tr>\n",
       "    <tr>\n",
       "      <th>1</th>\n",
       "      <td>0</td>\n",
       "      <td>sociolinguisticslang classification grimes jos...</td>\n",
       "      <td>310</td>\n",
       "    </tr>\n",
       "    <tr>\n",
       "      <th>2</th>\n",
       "      <td>0</td>\n",
       "      <td>query letter frequencies text identificationi ...</td>\n",
       "      <td>337</td>\n",
       "    </tr>\n",
       "  </tbody>\n",
       "</table>\n",
       "</div>"
      ],
      "text/plain": [
       "   label                                       Cleaned_Text  diff_length\n",
       "0      0  job posting apple iss research centercontent l...          787\n",
       "1      0  sociolinguisticslang classification grimes jos...          310\n",
       "2      0  query letter frequencies text identificationi ...          337"
      ]
     },
     "execution_count": 26,
     "metadata": {},
     "output_type": "execute_result"
    }
   ],
   "source": [
    "df_t.drop('orj_length',axis=1,inplace=True)\n",
    "df_t.drop('clean_length',axis=1,inplace=True)\n",
    "df_t.head(3)"
   ]
  },
  {
   "cell_type": "markdown",
   "id": "c6050ef2",
   "metadata": {},
   "source": [
    "### diff_length Özelliğinin İşlenebilirliği"
   ]
  },
  {
   "cell_type": "markdown",
   "id": "a4ed86e1",
   "metadata": {},
   "source": [
    "İşlenebilirliği anlamak için doğrudan label özelliği ile arasındaki ilişkiyi göstren bir grafik oluşturdum."
   ]
  },
  {
   "cell_type": "code",
   "execution_count": 27,
   "id": "2d74a63a",
   "metadata": {},
   "outputs": [
    {
     "data": {
      "image/png": "[encoded data removed]",
      "text/plain": [
       "<Figure size 640x480 with 1 Axes>"
      ]
     },
     "metadata": {},
     "output_type": "display_data"
    },
    {
     "name": "stdout",
     "output_type": "stream",
     "text": [
      "label\n",
      "0     792.102819\n",
      "1    1407.056133\n",
      "Name: diff_length, dtype: float64\n"
     ]
    }
   ],
   "source": [
    "import pandas as pd\n",
    "import matplotlib.pyplot as plt\n",
    "\n",
    "\n",
    "\n",
    "# 'label' sütununa göre gruplama ve 'diff_length' ortalamasını alma\n",
    "grouped = df_t.groupby('label')['diff_length'].mean()\n",
    "\n",
    "# Grafik oluşturma\n",
    "grouped.plot(kind='bar', color='blue')\n",
    "plt.xlabel('Spam Değil=0 , Spam=1')\n",
    "plt.ylabel('Ortalama diff_length')\n",
    "plt.title('Gereksiz Karakterler ve Spam Mailler Arasındaki İlişki')\n",
    "plt.xticks(rotation=0)\n",
    "plt.show()\n",
    "print(grouped)"
   ]
  },
  {
   "cell_type": "markdown",
   "id": "8b9b7dba",
   "metadata": {},
   "source": [
    "Görüleceği üzere spam olan maillerin ortalama gereksiz karakter sayısının değeri 1400'ken spam olmayan maillerin ortalama gereksiz karakter sayısı 800. Bu durumda spam mailler ile diff_length özelliği arasında doğrudan bir ilişki bulunduğunu söyeleyebiliriz. Lakin sınıflandırmayı hazır fonksiyonlar aracılığı ile uygulayacağım bu istatistiği parametre olarak ekleyemedim."
   ]
  },
  {
   "cell_type": "markdown",
   "id": "6f250d0a",
   "metadata": {},
   "source": [
    "## Metin Vektörleştirme"
   ]
  },
  {
   "cell_type": "markdown",
   "id": "019a3357",
   "metadata": {},
   "source": [
    "Metin vektörleştirme işlemi, metin verilerini sayısal vektörlere dönüştürmeyi sağlar. Bu dönüşüm, metinlerin makine öğrenimi algoritmaları tarafından işlenebilmesini sağlar. Ben TF-IDF yöntemini kullanacağım."
   ]
  },
  {
   "cell_type": "markdown",
   "id": "e9e5a19d",
   "metadata": {},
   "source": [
    "TF-IDF, bir belgedeki bir kelimenin önemini belirlemek için kullanılır. Bir kelimenin belgedeki sıklığı (Term Frequency - TF) ile belgedeki diğer belgelerde nadir görülme sıklığı (Inverse Document Frequency - IDF) arasındaki dengenin sağlanmasıyla kelimenin önemi belirlenir. Böylece, belirli bir belge içinde sık görülen ancak diğer belgelerde nadir olan kelimeler daha yüksek ağırlıkla temsil edilir."
   ]
  },
  {
   "cell_type": "markdown",
   "id": "5fa19987",
   "metadata": {},
   "source": [
    "Örneğin, bir belgede \"apple\" kelimesi 5 kez geçiyorsa, \"apple\" kelimesinin bu belgedeki terim sıklığı (TF değeri) 5 olacaktır."
   ]
  },
  {
   "cell_type": "markdown",
   "id": "da176b7c",
   "metadata": {},
   "source": [
    "Örneğin, \"apple\" kelimesi 100 belgede geçiyorsa ve toplamda 1000 belge varsa, \"apple\" kelimesinin ters belge frekansı (IDF değeri) log(1000/100) = 1 olarak hesaplanır."
   ]
  },
  {
   "cell_type": "markdown",
   "id": "4c0460ab",
   "metadata": {},
   "source": [
    "Bir terimin TF-IDF değeri, TF değeriyle IDF değerinin çarpımıdır.\n",
    "Örneğin, \"apple\" kelimesi belgede 5 kez geçiyorsa ve IDF değeri 1 ise, \"apple\" kelimesinin TF-IDF değeri 5 * 1 = 5 olur."
   ]
  },
  {
   "cell_type": "markdown",
   "id": "389fa9a7",
   "metadata": {},
   "source": [
    "Bu değerler sayesinde, metinlerdeki kelimenin önemini yansıtan vektör temsilleri elde edilir. "
   ]
  },
  {
   "cell_type": "code",
   "execution_count": 28,
   "id": "974fad1a",
   "metadata": {},
   "outputs": [],
   "source": [
    "from sklearn.feature_extraction.text import TfidfVectorizer\n",
    "\n",
    "tvec = TfidfVectorizer() # TfidfVectorizer sınıfından bir örnek"
   ]
  },
  {
   "cell_type": "markdown",
   "id": "c81478e9",
   "metadata": {},
   "source": [
    "## Test ve Eğitim Veri Setlerinin Hazırlanması"
   ]
  },
  {
   "cell_type": "code",
   "execution_count": 29,
   "id": "70a52db9",
   "metadata": {},
   "outputs": [],
   "source": [
    "X = df_t['Cleaned_Text'] # Bağımsız Değişken # 2.893 Kayıt\n",
    "Y = df_t['label'] # Bağımlı Değişken\n",
    "\n",
    "from sklearn.model_selection import train_test_split\n",
    "\n",
    "\n",
    "X_train, X_test, Y_train, Y_test = train_test_split(X, Y, test_size=0.24, random_state=225, stratify=Y)\n",
    "\n",
    "\n",
    "#  Metinleri eğitim ve test veri kümelerine bölmek için train_test_split fonksiyonunu kullanıyoruz. \n",
    "#  X ve Y verilerini belirtilen oranda bölerken, \n",
    "#  rastgele bir durum (random_state) belirliyoruz. \n",
    "#  Ayrıca, sınıfların dengeli bir şekilde bölünmesi için stratify parametresinin değerini Y olarak atıyoruz."
   ]
  },
  {
   "cell_type": "code",
   "execution_count": 30,
   "id": "858175af",
   "metadata": {},
   "outputs": [
    {
     "name": "stdout",
     "output_type": "stream",
     "text": [
      "Eğitim Veri Seti:\n",
      "Ham Sayısı: 1833\n",
      "Spam Sayısı: 365\n"
     ]
    }
   ],
   "source": [
    "ham_count_train = (Y_train == 0).sum()\n",
    "spam_count_train = (Y_train == 1).sum()\n",
    "\n",
    "print(\"Eğitim Veri Seti:\")\n",
    "print(\"Ham Sayısı:\", ham_count_train)\n",
    "print(\"Spam Sayısı:\", spam_count_train)\n",
    "#2.198"
   ]
  },
  {
   "cell_type": "code",
   "execution_count": 31,
   "id": "e65639da",
   "metadata": {},
   "outputs": [
    {
     "name": "stdout",
     "output_type": "stream",
     "text": [
      "Test Veri Seti:\n",
      "Ham Sayısı: 579\n",
      "Spam Sayısı: 116\n"
     ]
    }
   ],
   "source": [
    "ham_count_test = (Y_test == 0).sum()\n",
    "spam_count_test = (Y_test == 1).sum()\n",
    "\n",
    "print(\"Test Veri Seti:\")\n",
    "print(\"Ham Sayısı:\", ham_count_test)\n",
    "print(\"Spam Sayısı:\", spam_count_test)\n",
    "#695"
   ]
  },
  {
   "cell_type": "markdown",
   "id": "774b6e88",
   "metadata": {},
   "source": [
    "## KNNeighbors Sınıflandırması"
   ]
  },
  {
   "cell_type": "code",
   "execution_count": 51,
   "id": "d2cd6cf6",
   "metadata": {},
   "outputs": [
    {
     "name": "stdout",
     "output_type": "stream",
     "text": [
      "[[560   7]\n",
      " [ 19 109]]\n",
      "Accuracy :  0.962589928057554\n"
     ]
    },
    {
     "name": "stderr",
     "output_type": "stream",
     "text": [
      "C:\\Users\\Talha\\anaconda3\\lib\\site-packages\\sklearn\\neighbors\\_classification.py:228: FutureWarning: Unlike other reduction functions (e.g. `skew`, `kurtosis`), the default behavior of `mode` typically preserves the axis it acts along. In SciPy 1.11.0, this behavior will change: the default value of `keepdims` will become False, the `axis` over which the statistic is taken will be eliminated, and the value None will no longer be accepted. Set `keepdims` to True or False to avoid this warning.\n",
      "  mode, _ = stats.mode(_y[neigh_ind, k], axis=1)\n"
     ]
    }
   ],
   "source": [
    "from sklearn.neighbors import KNeighborsClassifier\n",
    "from sklearn.metrics import confusion_matrix\n",
    "from sklearn.metrics import accuracy_score, precision_score, recall_score\n",
    "from sklearn.pipeline import Pipeline\n",
    "# KNN modelini oluşturma\n",
    "knc = KNeighborsClassifier()\n",
    "# Modeli eğitme\n",
    "model_knn = Pipeline([('vectorizer',tvec),('classifier',knc)])\n",
    "model_knn.fit(X_train,Y_train)\n",
    "\n",
    "# Test verileri üzerinde tahmin yapma\n",
    "y_pred_knn = model_knn.predict(X_test)\n",
    "# Confusion matrix oluşturma ve raporlama\n",
    "cm_knn = confusion_matrix(y_pred_knn,Y_test)\n",
    "print(cm_knn)\n",
    "print(\"Accuracy : \", accuracy_score(y_pred_knn,Y_test))\n",
    "#695"
   ]
  },
  {
   "cell_type": "markdown",
   "id": "782ea46f",
   "metadata": {},
   "source": [
    "## SVM Sınıflandırması"
   ]
  },
  {
   "cell_type": "code",
   "execution_count": 52,
   "id": "a67d0ac3",
   "metadata": {},
   "outputs": [
    {
     "name": "stdout",
     "output_type": "stream",
     "text": [
      "[[578  11]\n",
      " [  1 105]]\n",
      "Accuracy :  0.9827338129496402\n"
     ]
    }
   ],
   "source": [
    "from sklearn.svm import SVC\n",
    "# SVM modelini oluşturma\n",
    "svm = SVC()\n",
    "model_svm = Pipeline([('vectorizer', tvec), ('classifier', svm)])\n",
    "\n",
    "# Modeli eğitme\n",
    "model_svm.fit(X_train, Y_train)\n",
    "\n",
    "# Test verileri üzerinde tahmin yapma\n",
    "y_pred_svm = model_svm.predict(X_test)\n",
    "\n",
    "# Confusion matrix oluşturma ve görselleştirme\n",
    "cm_svm = confusion_matrix(y_pred_svm,Y_test)\n",
    "print(cm_svm)\n",
    "print(\"Accuracy : \", accuracy_score(y_pred_svm,Y_test))"
   ]
  },
  {
   "cell_type": "markdown",
   "id": "5f5dcb07",
   "metadata": {},
   "source": [
    "**Accuracy (Doğruluk) = (TP + TN) / (TP + TN + FP + FN)**: Accuracy, modelin doğru sınıflandırılan örneklerinin oranını temsil eder. Yani, doğru tahmin edilen örneklerin toplam örnek sayısına oranını gösterir. Bu metrik, sınıflandırma modelinin genel performansını değerlendirmek için kullanılır.\n"
   ]
  },
  {
   "cell_type": "markdown",
   "id": "a69e1030",
   "metadata": {},
   "source": [
    "## Confusion Matrix Değerlerinin Görselleştirilmesi Ve İncelenmesi"
   ]
  },
  {
   "cell_type": "markdown",
   "id": "634d58b0",
   "metadata": {},
   "source": [
    "### KNN Sınıflandırması İçin Confusion Matrix"
   ]
  },
  {
   "cell_type": "code",
   "execution_count": 34,
   "id": "f9c2c62a",
   "metadata": {},
   "outputs": [
    {
     "data": {
      "image/png": "[encoded data removed]",
      "text/plain": [
       "<Figure size 640x480 with 2 Axes>"
      ]
     },
     "metadata": {},
     "output_type": "display_data"
    }
   ],
   "source": [
    "import seaborn as sns\n",
    "class_names = ['Ham', 'Spam']\n",
    "sns.heatmap(cm_knn, annot=True, fmt=\"d\", cmap=\"Blues\",xticklabels=class_names, yticklabels=class_names)\n",
    "plt.ylabel(\"Tahmin Edilen Etiketler\")\n",
    "plt.xlabel(\"Gerçek/Orijinal Etiketler\")\n",
    "plt.show()\n",
    "#695"
   ]
  },
  {
   "cell_type": "markdown",
   "id": "0ff314af",
   "metadata": {},
   "source": [
    "- **TP (true positive)**: Spam olarak doğru tahmin edilen sayı (109)\n",
    "- **FP (false positive)**: Spam olduğu halde yanlış(ham) tahmin edilen sayı (7)\n",
    "- **TN (true negative)**: Ham olarak doğru tahmin edilen sayı (560)\n",
    "- **FN (false negative)**: Ham olduğu halde yanlış(spam) edilen sayı (19)"
   ]
  },
  {
   "cell_type": "markdown",
   "id": "e9a6b209",
   "metadata": {},
   "source": [
    "### SVM Sınıflandırması İçin Confusion Matrix"
   ]
  },
  {
   "cell_type": "code",
   "execution_count": 35,
   "id": "09c7fb4e",
   "metadata": {},
   "outputs": [
    {
     "data": {
      "image/png": "[encoded data removed]",
      "text/plain": [
       "<Figure size 640x480 with 2 Axes>"
      ]
     },
     "metadata": {},
     "output_type": "display_data"
    }
   ],
   "source": [
    "sns.heatmap(cm_svm, annot=True, fmt=\"d\", cmap=\"Blues\",xticklabels=class_names, yticklabels=class_names)\n",
    "plt.ylabel(\"Tahmin Edilen Etiketler\")\n",
    "plt.xlabel(\"Gerçek/Orijinal Etiketler\")\n",
    "plt.show()"
   ]
  },
  {
   "cell_type": "markdown",
   "id": "326372f7",
   "metadata": {},
   "source": [
    "- **TP (true positive)**: Spam olarak doğru tahmin edilen sayı (105)\n",
    "- **FP (false positive)**: Spam olduğu halde yanlış(ham) tahmin edilen sayı (11)\n",
    "- **TN (true negative)**: Ham olarak doğru tahmin edilen sayı (578)\n",
    "- **FN (false negative)**: Ham olduğu halde yanlış(spam) tahmin edilen sayı (1)"
   ]
  },
  {
   "cell_type": "markdown",
   "id": "af473bbf",
   "metadata": {},
   "source": [
    "### Confusion Matrix Verilerinden Çıkan Fikir"
   ]
  },
  {
   "cell_type": "markdown",
   "id": "462cf6a7",
   "metadata": {},
   "source": [
    "KNN sınıflandırması, SVM sınıflandırmasına göre **sayısal olarak** spam mail tespitinde daha fazla doğru spam mail tespit etmesine rağmen ham ve spam mesajları SVM'ye göre daha çok **yanlış** kategorize ettiği için spam mail tespitinde **verimlilik bakımından** **SVM sınıflandırması daha başarılı** bir iş çıkarmıştır."
   ]
  },
  {
   "cell_type": "markdown",
   "id": "1c52a2c0",
   "metadata": {},
   "source": [
    "## Sınıflandırma Raporlarının Görselleştirilmesi ve Değerlendirilmesi"
   ]
  },
  {
   "cell_type": "markdown",
   "id": "48030837",
   "metadata": {},
   "source": [
    "### KNN Sınıflandırması İçin Rapor Sonuçları"
   ]
  },
  {
   "cell_type": "code",
   "execution_count": 71,
   "id": "cd2d9845",
   "metadata": {},
   "outputs": [
    {
     "data": {
      "image/png": "[encoded data removed]",
      "text/plain": [
       "<Figure size 640x480 with 2 Axes>"
      ]
     },
     "metadata": {},
     "output_type": "display_data"
    }
   ],
   "source": [
    "from sklearn.metrics import classification_report\n",
    "class_names = ['ham', 'spam']\n",
    "\n",
    "report_knn = classification_report(Y_test, y_pred_knn, target_names=class_names, output_dict=True)\n",
    "\n",
    "sns.heatmap(pd.DataFrame(report_knn).iloc[:-1, :].T, annot=True, cmap=\"Blues\",fmt='.3f')\n",
    "plt.show()"
   ]
  },
  {
   "cell_type": "markdown",
   "id": "9ff98cae",
   "metadata": {},
   "source": [
    "### SVM Sınıflandırması İçin Rapor Sonuçları"
   ]
  },
  {
   "cell_type": "code",
   "execution_count": 76,
   "id": "a36e2409",
   "metadata": {},
   "outputs": [
    {
     "data": {
      "image/png": "[encoded data removed]",
      "text/plain": [
       "<Figure size 640x480 with 2 Axes>"
      ]
     },
     "metadata": {},
     "output_type": "display_data"
    }
   ],
   "source": [
    "report_svm = classification_report(Y_test, y_pred_svm, target_names=class_names, output_dict=True)\n",
    "sns.heatmap(pd.DataFrame(report_svm).iloc[:-1, :].T, annot=True, cmap=\"Blues\",fmt='.3f')\n",
    "plt.show()"
   ]
  },
  {
   "cell_type": "markdown",
   "id": "c4675290",
   "metadata": {},
   "source": [
    "## Raporların Değerlendirilmesi\n",
    "\n",
    "**Accuracy (Doğruluk) = (TP + TN) / (TP + TN + FP + FN)**: Accuracy, modelin doğru sınıflandırılan örneklerinin oranını temsil eder. Yani, doğru tahmin edilen örneklerin toplam örnek sayısına oranını gösterir. Bu metrik, sınıflandırma modelinin genel performansını değerlendirmek için kullanılır.\n",
    "\n",
    "**Precision (Hassasiyet) = TP / (TP + FP)**: Precision, pozitif olarak tahmin edilen örnekler ile gerçek pozitif örneklerin yüzdesini gösterir. Yani, bir sınıfın pozitif olarak tahmin edilen örneklerinin ne kadarının gerçekten o sınıfa ait olduğunu gösterir. Hassasiyet, yanlış pozitif tahminlerin az olduğu durumlarda yüksek değer alır.\n",
    "\n",
    "**Recall (Geri Çağırma) = TP / (TP + FN)**: Recall, gerçek pozitif örnekler ile doğru pozitif olarak tahmin edilen örneklerin yüzdesini gösterir. Yani, bir sınıfa ait gerçek pozitif örneklerin ne kadarının doğru bir şekilde tahmin edildiğini gösterir. Geri çağırma, yanlış negatif tahminlerin az olduğu durumlarda yüksek değer alır.\n",
    "\n",
    "### Doğruluk (Accuracy):\n",
    "\n",
    "- KNN: 0.9626\n",
    "- SVM: 0.9827\n",
    "\n",
    "SVM modeli, doğruluk açısından KNN modeline göre daha yüksek bir performans sergilemektedir. Bu, SVM modelinin genel olarak daha doğru tahminler yaptığını gösterir.\n",
    "\n",
    "### Hassasiyet (Precision):\n",
    "\n",
    "- KNN - Spam: 0.8516\n",
    "- SVM - Spam: 0.9906\n",
    "\n",
    "SVM modeli, spam sınıfı için daha yüksek hassasiyet değerine sahiptir. Bu, SVM'in spam olarak tahmin ettiği örneklerin gerçekten spam olma olasılığının daha yüksek olduğunu gösterir. SVM, yanlış pozitiflerin sayısını azaltmada daha başarılıdır.\n",
    "\n",
    "### Geri Çağırma (Recall):\n",
    "\n",
    "- KNN - Spam: 0.9397\n",
    "- SVM - Spam: 0.9052\n",
    "\n",
    "KNN modeli, spam sınıfını geri çağırma açısından daha yüksek bir performans sergilemektedir. Bu, KNN'in gerçek spam örneklerinin daha büyük bir kısmını doğru bir şekilde tespit ettiğini gösterir.\n",
    "\n",
    "### F1-Skoru:\n",
    "\n",
    "- KNN - Spam: 0.8934\n",
    "- SVM - Spam: 0.9459\n",
    "\n",
    "SVM modeli, spam sınıfı için daha yüksek bir F1-skoruna sahiptir. Bu, SVM'in hem hassasiyeti hem de geri çağırma değerlerini dengeleyerek daha iyi bir performans sergilediğini gösterir.\n",
    "\n",
    "### Sonuç\n",
    "Genel olarak, SVM modeli KNN modeline göre daha yüksek hassasiyet ve F1-skoru değerlerine sahiptir. Bununla birlikte, KNN modeli spam sınıfı için daha yüksek geri çağırma değerine sahiptir. Bu, SVM modelinin spam e-postalarını daha iyi tespit edebilme yeteneğine sahip olduğunu gösterirken, KNN modelinin spam örneklerini kaçırma olasılığının daha düşük olduğunu gösterir.\n",
    "\n",
    "Bu bilgilere dayanarak, SVM modelinin genel olarak spam tespitinde daha güçlü olduğunu söyleyebiliriz. Ancak, her iki modelin de farklı avantajları ve güçlü yanları bulunmaktadır."
   ]
  },
  {
   "cell_type": "markdown",
   "id": "c485f826",
   "metadata": {},
   "source": [
    "### Spam / Ham Kesişim Değerlerinin Anlamları"
   ]
  },
  {
   "cell_type": "markdown",
   "id": "3195e0e3",
   "metadata": {},
   "source": [
    "**Precision-Spam Kesişimi**: Bu değer, \"spam\" sınıfının doğru pozitif tahminlerinin, toplam \"spam\" tahminlerine oranını temsil eder. Yani, spam olarak tahmin edilen örneklerin ne kadarının gerçekten spam olduğunu gösterir.\n",
    "\n",
    "**Precision-Ham Kesişimi**: Bu değer, \"ham\" sınıfının doğru pozitif tahminlerinin, toplam \"ham\" tahminlerine oranını temsil eder. Yani, ham olarak tahmin edilen örneklerin ne kadarının gerçekten ham olduğunu gösterir.\n",
    "\n",
    "**Recall-Spam Kesişimi**: Bu değer, \"spam\" sınıfının doğru pozitif tahminlerinin, toplam gerçek \"spam\" örneklerine oranını temsil eder. Yani, gerçek spam örneklerinin ne kadarının doğru bir şekilde tahmin edildiğini gösterir.\n",
    "\n",
    "**Recall-Ham Kesişimi**: Bu değer, \"ham\" sınıfının doğru pozitif tahminlerinin, toplam gerçek \"ham\" örneklerine oranını temsil eder. Yani, gerçek ham örneklerinin ne kadarının doğru bir şekilde tahmin edildiğini gösterir.\n",
    "\n",
    "**F1-Score-Spam Kesişimi**: Bu değer, \"spam\" sınıfının hassasiyet (precision) ve geri çağırma (recall) değerlerinin harmonik ortalamasını temsil eder. Bu, spam sınıfının doğru pozitif tahminlerinin yanı sıra yanlış pozitif ve yanlış negatif tahminlerin de dikkate alındığı bir denge metriğidir.\n",
    "\n",
    "**F1-Score-Ham Kesişimi**: Bu değer, \"ham\" sınıfının hassasiyet (precision) ve geri çağırma (recall) değerlerinin harmonik ortalamasını temsil eder. Bu, ham sınıfının doğru pozitif tahminlerinin yanı sıra yanlış pozitif ve yanlış negatif tahminlerin de dikkate alındığı bir denge metriğidir."
   ]
  },
  {
   "cell_type": "markdown",
   "id": "37d8bba1",
   "metadata": {},
   "source": [
    "### Oran/Yüzde/Ortalama Kesişim Değerlenin Anlamları"
   ]
  },
  {
   "cell_type": "markdown",
   "id": "f6b7bf90",
   "metadata": {},
   "source": [
    "**Accuracy - Precision**: Bu değer, doğru pozitif tahminlerin toplam pozitif tahminlere oranını temsil eder. Yüksek bir hassasiyet değeri, yanlış pozitif tahminlerin az olduğunu gösterir. Accuracy, doğru bir şekilde sınıflandırılan örneklerin toplam örnek sayısına oranını gösterir.\n",
    "\n",
    "**Accuracy - Recall**: Bu değer, doğru pozitif tahminlerin gerçek pozitif örneklerin yüzdesini temsil eder. Yüksek bir geri çağırma değeri, yanlış negatif tahminlerin az olduğunu gösterir. Accuracy, doğru bir şekilde sınıflandırılan örneklerin toplam örnek sayısına oranını gösterir.\n",
    "\n",
    "**Accuracy - F1-Score** Kesişimi: Bu değer, hassasiyet (precision) ve geri çağırma (recall) değerlerinin harmonik ortalamasını temsil eder. Bu metrik, hem hassasiyeti hem de geri çağırma değerini dikkate alarak bir denge sağlar. Accuracy, doğru bir şekilde sınıflandırılan örneklerin toplam örnek sayısına oranını gösterir.\n",
    "\n",
    "**Weighted Avg - Precision**: Ağırlıklı ortalama olarak hesaplanan hassasiyet (precision) değeri. Bu, tüm sınıfların tahminlerine göre hesaplanan ve sınıflar arasındaki örnek sayılarına dayalı olarak ağırlıklandırılan bir ortalama değerdir.\n",
    "\n",
    "**Weighted Avg - Recall**: Ağırlıklı ortalama olarak hesaplanan geri çağırma (recall) değeri. Bu, tüm sınıfların tahminlerine göre hesaplanan ve sınıflar arasındaki örnek sayılarına dayalı olarak ağırlıklandırılan bir ortalama değerdir.\n",
    "\n",
    "**Weighted Avg - F1-Score**: Ağırlıklı ortalama olarak hesaplanan F1 skoru. Bu, tüm sınıfların tahminlerine göre hesaplanan ve sınıflar arasındaki örnek sayılarına dayalı olarak ağırlıklandırılan bir ortalama değerdir.\n",
    "\n",
    "**Macro Avg - Precision**: Makro ortalama olarak hesaplanan hassasiyet (precision) değeri. Bu, tüm sınıfların hassasiyet değerlerinin aritmetik ortalamasını temsil eder. Her sınıfın performansı aynı ağırlığa sahiptir.\n",
    "\n",
    "**Macro Avg - Recall**: Makro ortalama olarak hesaplanan geri çağırma (recall) değeri. Bu, tüm sınıfların geri çağırma değerlerinin aritmetik ortalamasını temsil eder. Her sınıfın performansı aynı ağırlığa sahiptir.\n",
    "\n",
    "**Macro Avg - F1-Score**: Makro ortalama olarak hesaplanan F1 skoru. Bu, tüm sınıfların F1 skorlarının aritmetik ortalamasını temsil eder. Her sınıfın performansı aynı ağırlığa sahiptir."
   ]
  },
  {
   "cell_type": "markdown",
   "id": "f778957e",
   "metadata": {},
   "source": [
    "# Optimizasyon İçin Yapılabilecek Seçenekler"
   ]
  },
  {
   "cell_type": "markdown",
   "id": "eb5db93c",
   "metadata": {},
   "source": [
    "1 - **Model Parametrelerini Ayarlama(Hiperparametre)**: Sınıflandırma algoritmalarının belirli parametreleri vardır, örneğin KNN için komşu sayısı (n_neighbors) veya uzaklık ölçütü (metric). Bu parametreleri değiştirerek farklı değerleri deneyebilir ve modelin performansını kontrol edebiliriz.\n",
    "\n",
    "2 - **Yeni Veri Önişleme adımları** ekleyebilir veya adımları **iyileştirebiliriz**.\n",
    "\n",
    "3 - **Yeni Özellik Seçim**i veya **Öznitelik Mühendisliği** kullanarak eyni özellik orataya çıkarabilriiz.\n",
    "\n",
    "4 - **Model Ensamblesi**: Birden fazla modeli birleştirerek bir ensemble modeli oluşturabilirsiniz. Bu, modelin daha iyi genelleme yapmasına ve daha iyi performans elde etmesine yardımcı olabilir. Örneğin, SVM ile birlikte başka bir algoritma kullanarak ensemble modeli oluşturabiliriz.\n",
    "\n",
    "5 - **Cross-Validation**: Modelin performansını daha güvenilir bir şekilde değerlendirmek için çapraz doğrulama (cross-validation) yöntemlerini kullanabiliriz. Bu, veri setini farklı parçalara böler ve modeli her bir parça üzerinde eğitip test ederek genel performansı değerlendirmenizi sağlar.\n",
    "\n",
    "\n",
    "### **Hiperparametre optimizasyonu** için bazı yöntemler;\n",
    "\n",
    "**Grid Search**: Grid search, belirli bir parametre kombinasyonu kümesini deneyerek en iyi performansı elde etmeyi amaçlar. Grid search, tüm parametre kombinasyonlarını sırayla deneyerek en iyi sonucu veren hiperparametreleri belirler.\n",
    "\n",
    "**Random Search**: Random search, belirli bir parametre dağılımı içinden rastgele seçilen parametre değerlerini deneyerek en iyi sonucu elde etmeyi amaçlar. Bu yöntemde, parametre kombinasyonlarını rastgele seçmek ve test etmek için belirli bir sayıda deneme yapılır.\n",
    "\n",
    "**Bayes Optimize**: Bayes optimize, önceki deneyimlere dayalı olarak parametrelerin hangi değerlerinin daha iyi sonuç vereceğini tahmin eden bir model kullanır. Bu tahminlerle birlikte yeni parametre kombinasyonları seçilerek en iyi sonuca ulaşılır.\n",
    "\n",
    "Bu teknikleri, **Grid Search ve Random Search, scikit-learn** gibi makine öğrenimi kütüphanelerini kullanarak kolayca uygulayabiliriz."
   ]
  },
  {
   "cell_type": "markdown",
   "id": "45489fb5",
   "metadata": {},
   "source": [
    "## SVM Sınıflandırmasında Bulunan Önemli Parametreler ve Varsayılan Değerleri\n",
    "\n",
    "**C**: Bu parametre, SVM'nin hata toleransını kontrol eder. C değeri ne kadar büyükse, modelin daha az hata toleransı gösterdiği anlamına gelir. Yani, büyük bir C değeri sınıflandırma hatasına daha az izin verirken, küçük bir C değeri daha fazla hata tolere eder. Bu parametre, modelin aşırı uyma (overfitting) veya aşırı genelleme (underfitting) yapma yeteneğini etkiler. **C değeri üzerindeki ayarlamalar, modelin sınıflandırma hatasını azaltmak veya veriye daha fazla uyum sağlamak için yapılır**.Varsayılan değeri 1.0'dır.\n",
    "\n",
    "**kernel**:  SVM'nin çekirdek fonksiyonunu belirler. **Çekirdek fonksiyonu, verileri yüksek boyutlu uzayda dönüştürerek doğrusal olarak ayrılabilir hale getiri**r. Varsayılan olarak \"rbf\" (Radial Basis Function) çekirdeği kullanılır, çünkü non-lineer karar sınırlarını modellerken etkilidir. Farklı çekirdekler arasında \"linear\", \"poly\" (polinom), \"sigmoid\" gibi seçenekler bulunur. Hangi çekirdek fonksiyonunun kullanılacağı, veri setinin doğası ve sınıflandırma probleminin gereksinimlerine bağlıdır.\n",
    "\n",
    "**gamma**: Gamma parametresi, rbf, poly ve sigmoid çekirdeklerinde kullanılır. Varsayılan olarak \"scale\" değeri kullanılır, bu da gamma değerini 1 / (n_features * X.var()) formülüyle hesaplar. **Gamma, çekirdek fonksiyonunun esnekliğini kontrol eder. Küçük bir gamma değeri, geniş bir etki alanı sağlar ve daha düzgün bir sınıflandırma yapar. Büyük bir gamma değeri, verilere daha yakın noktalara odaklanır ve karmaşık, kıvrımlı sınıflandırma bölgeleri oluşturur.** Gamma değeri üzerinde yapılan ayarlamalar, modelin aşırı uyma veya aşırı genelleme eğilimini etkiler. Varsayılan değeri \"scale\" olarak belirlenmiştir. \n",
    "\n",
    "**degree**: **Degree parametresi, polinom çekirdeği kullanıldığında polinomun derecesini belirler.** Varsayılan değeri 3'tür, yani üçüncü dereceden bir polinom kullanılır. Polinom çekirdeği, non-lineer sınıflandırma problemlerini ele almak için kullanılır. Derece değeri arttıkça, polinomun karmaşıklığı ve esnekliği artar. Ancak çok yüksek dereceli polinomlar kullanmak, aşırı uyma sorununa yol açabilir. Derece değeri, sınıflandırma probleminin karmaşıklığına ve veri setinin doğasına bağlı olarak seçilir."
   ]
  },
  {
   "cell_type": "markdown",
   "id": "244321a2",
   "metadata": {},
   "source": [
    "### RandomizedSearch ile En Optimum SVM Parametrelerini Bularak Modeli Optimize Etme"
   ]
  },
  {
   "cell_type": "code",
   "execution_count": 56,
   "id": "18360253",
   "metadata": {},
   "outputs": [
    {
     "name": "stdout",
     "output_type": "stream",
     "text": [
      "En iyi parametreler:  {'kernel': 'linear', 'gamma': 0.01, 'C': 1.0}\n",
      "Confusion Matrix:\n",
      "[[578   5]\n",
      " [  1 111]]\n",
      "Accuracy:  0.9913669064748202\n"
     ]
    }
   ],
   "source": [
    "from sklearn.model_selection import RandomizedSearchCV\n",
    "X_train_tfidf = tvec.fit_transform(X_train)\n",
    "X_test_tfidf = tvec.transform(X_test)\n",
    "\n",
    "\n",
    "# Hiperparametrelerin değer aralığını belirleme\n",
    "param_dist = {\n",
    "    'C': [0.1, 1.0, 1.5, 10.0],\n",
    "    'gamma': [0.1, 0.01, 0.001],\n",
    "    'kernel': ['linear', 'rbf']\n",
    "}\n",
    "\n",
    "# RandomizedSearchCV ile SVM özelinde hiperparametre optimizasyonu yapma\n",
    "random_search = RandomizedSearchCV(svm, param_distributions=param_dist, cv=5, n_iter=10, random_state=42)\n",
    "random_search.fit(X_train_tfidf, Y_train)\n",
    "\n",
    "# En iyi parametreleri ekrana bastıralım\n",
    "best_params = random_search.best_params_\n",
    "print(\"En iyi parametreler: \", best_params)\n",
    "\n",
    "\n",
    "# En iyi parametreleri bulunan SVM modelini kullanarak tahmin yapma\n",
    "y_pred_best = random_search.predict(X_test_tfidf)\n",
    "\n",
    "# Model performansını değerlendirme\n",
    "cm_best = confusion_matrix(y_pred_best, Y_test)\n",
    "accuracy_best = accuracy_score(y_pred_best, Y_test)\n",
    "\n",
    "print(\"Confusion Matrix:\")\n",
    "print(cm_best)\n",
    "print(\"Accuracy: \", accuracy_best)"
   ]
  },
  {
   "cell_type": "markdown",
   "id": "d74b2cb7",
   "metadata": {},
   "source": [
    "## Optimum Değerleri Bulunan SVC Parametreleri İle Modeli Eğitme"
   ]
  },
  {
   "cell_type": "code",
   "execution_count": 57,
   "id": "3b3aedca",
   "metadata": {},
   "outputs": [
    {
     "name": "stdout",
     "output_type": "stream",
     "text": [
      "[[578   4]\n",
      " [  1 112]]\n",
      "Accuracy :  0.9928057553956835\n"
     ]
    }
   ],
   "source": [
    "svm = SVC(kernel='linear', gamma=0.01, C=1.5) # Optimum Değerler \n",
    "# C değerini 1.5 yaptım çünkü sadece C için optimum değer arandığında 1.5 ve 10 değerleri daha iyi sonuç veriyor.\n",
    "model_best_svm = Pipeline([('vectorizer', tvec), ('classifier', svm)])\n",
    "# Modeli eğitme\n",
    "model_best_svm.fit(X_train, Y_train)\n",
    "\n",
    "# Test verileri üzerinde tahmin yapma\n",
    "y_pred_best_svm = model_best_svm.predict(X_test)\n",
    "\n",
    "# Confusion matrix oluşturma ve görselleştirme\n",
    "cm_best_svm = confusion_matrix(y_pred_best_svm,Y_test)\n",
    "print(cm_best_svm)\n",
    "print(\"Accuracy : \", accuracy_score(y_pred_best_svm,Y_test))"
   ]
  },
  {
   "cell_type": "code",
   "execution_count": 40,
   "id": "dc34a653",
   "metadata": {},
   "outputs": [
    {
     "data": {
      "image/png": "[encoded data removed]",
      "text/plain": [
       "<Figure size 640x480 with 2 Axes>"
      ]
     },
     "metadata": {},
     "output_type": "display_data"
    }
   ],
   "source": [
    "class_names = ['Ham', 'Spam']\n",
    "sns.heatmap(cm_best_svm, annot=True, fmt=\"d\", cmap=\"Blues\",xticklabels=class_names, yticklabels=class_names)\n",
    "\n",
    "plt.ylabel(\"Tahmin Edilen Etiketler\")\n",
    "plt.xlabel(\"Gerçek/Orijinal Etiketler\")\n",
    "plt.show()\n",
    "#[[578  11] Optimize Edilmemiş Confusion matrix değerleri\n",
    "#[  1 105]]\n"
   ]
  },
  {
   "cell_type": "markdown",
   "id": "6de40062",
   "metadata": {},
   "source": [
    "- **TP (true positive)**: Spam olarak doğru tahmin edilen sayı (112)\n",
    "- **FP (false positive)**: Spam olduğu halde yanlış(ham) tahmin edilen sayı (4)\n",
    "- **TN (true negative)**: Ham olarak doğru tahmin edilen sayı (578)\n",
    "- **FN (false negative)**: Ham olduğu halde yanlış(spam) tahmin edilen sayı (1)"
   ]
  },
  {
   "cell_type": "markdown",
   "id": "687097e0",
   "metadata": {},
   "source": [
    "## Optimize Edilmiş ve Edilmemiş SVM Modellerinin Kıyaslanması"
   ]
  },
  {
   "cell_type": "markdown",
   "id": "8b5c32da",
   "metadata": {},
   "source": [
    "### Optimize Edilmiş SVM Modelinin Raporu"
   ]
  },
  {
   "cell_type": "code",
   "execution_count": 74,
   "id": "3a53feee",
   "metadata": {},
   "outputs": [
    {
     "data": {
      "image/png": "[encoded data removed]",
      "text/plain": [
       "<Figure size 640x480 with 2 Axes>"
      ]
     },
     "metadata": {},
     "output_type": "display_data"
    }
   ],
   "source": [
    "class_names = ['ham', 'spam']\n",
    "report_best_svm = classification_report(Y_test, y_pred_best_svm, target_names=class_names, output_dict=True)\n",
    "sns.heatmap(pd.DataFrame(report_best_svm).iloc[:-1, :].T, annot=True, cmap=\"Blues\",fmt='.3f')\n",
    "plt.show()"
   ]
  },
  {
   "cell_type": "markdown",
   "id": "155a71b1",
   "metadata": {},
   "source": [
    "### Optimize Edilmemiş SVM Modelinin Raporu"
   ]
  },
  {
   "cell_type": "code",
   "execution_count": 42,
   "id": "348008d7",
   "metadata": {},
   "outputs": [
    {
     "data": {
      "image/png": "[encoded data removed]",
      "text/plain": [
       "<Figure size 640x480 with 2 Axes>"
      ]
     },
     "metadata": {},
     "output_type": "display_data"
    }
   ],
   "source": [
    "report_svm = classification_report(Y_test, y_pred_svm, target_names=class_names, output_dict=True)\n",
    "sns.heatmap(pd.DataFrame(report_svm).iloc[:-1, :].T, annot=True, cmap=\"Blues\",fmt='.3f')\n",
    "plt.show()"
   ]
  },
  {
   "cell_type": "markdown",
   "id": "c84e0852",
   "metadata": {},
   "source": [
    "## Raporların Değerlendirilmesi\n",
    "\n",
    "**Hassasiyet (Precision)**: Optimizasyon sonucunda SVM modelinin ham sınıf için hassasiyeti varsayılan modele göre artmıştır. Bu, optimize edilmiş modelin ham sınıfı daha iyi tanıdığını ve ham etiketli örnekleri yanlış pozitif olarak sınıflandırma olasılığının daha düşük olduğunu gösterir. Spam sınıf için ise hassasiyet değeri hemen hemen aynı kalmıştır.\n",
    "\n",
    "**Duyarlılık (Recall)**: Optimizasyon sonucunda SVM modelinin spam sınıfı için duyarlılığı artmıştır. Bu, optimize edilmiş modelin spam e-postalarını daha etkili bir şekilde tespit ettiği ve daha az yanlış negatif (gerçek spam olanları yanlışlıkla spam olmayan olarak sınıflandırma) yaptığını gösterir. Ham sınıf için duyarlılık değeri ise hemen hemen aynı kalmıştır.\n",
    "\n",
    "**F1-Skoru**: Optimize edilmiş SVM modelinin ham sınıf için F1-skoru varsayılan modele göre artmıştır. Bu, optimize edilmiş modelin hem hassasiyeti hem de duyarlılığı daha iyi dengelediğini ve ham sınıfı daha iyi bir şekilde sınıflandırdığını gösterir. Spam sınıfı için F1-skoru ise hemen hemen aynı kalmıştır.\n",
    "\n",
    "**Doğruluk (Accuracy)**: Optimize edilmiş SVM modelinin doğruluk değeri varsayılan modele göre artmıştır. Bu, optimize edilmiş modelin toplamda daha iyi bir performans sergilediğini ve doğru sınıflandırma oranının yükseldiğini gösterir.\n",
    "\n",
    "**Sonuç olarak**, optimize edilmiş SVM modeli, ham sınıf için hassasiyet, spam sınıfı için duyarlılık ve genel doğruluk açılarından varsayılan modele göre daha iyi bir performans sergilemektedir. Bu optimizasyon, ham sınıfın daha iyi tanınması ve spam e-postalarının daha etkili bir şekilde tespit edilmesi gibi alanlarda modelin performansını artırmıştır."
   ]
  },
  {
   "cell_type": "markdown",
   "id": "c5e1433e",
   "metadata": {},
   "source": [
    "# Son Aşama : Modelin Dış Kaynaklar Üzerinde Test Edilmesi"
   ]
  },
  {
   "cell_type": "code",
   "execution_count": 43,
   "id": "6c26e19b",
   "metadata": {},
   "outputs": [
    {
     "name": "stdout",
     "output_type": "stream",
     "text": [
      "0\n"
     ]
    }
   ],
   "source": [
    "test1=model_best_svm.predict([\"New Product Announcement: Introducing the XYZ Smartphone Discover the latest innovation in mobile technology with our new XYZ Smartphone. Pre-order now to be among the first to own it\"])\n",
    "print(test1[0])"
   ]
  },
  {
   "cell_type": "code",
   "execution_count": 44,
   "id": "1e43b992",
   "metadata": {},
   "outputs": [
    {
     "name": "stdout",
     "output_type": "stream",
     "text": [
      "1\n"
     ]
    }
   ],
   "source": [
    "#test2 = model_best_svm.predict([\"\"])\n",
    "test2 = model_best_svm.predict([\"Free Trial: Try Our Exclusive Product Now! Experience the benefits of our revolutionary product with a free trial. Limited quantities available.\"])\n",
    "print(test2[0])\n"
   ]
  },
  {
   "cell_type": "code",
   "execution_count": 45,
   "id": "e00c5e3f",
   "metadata": {},
   "outputs": [
    {
     "name": "stdout",
     "output_type": "stream",
     "text": [
      "1\n"
     ]
    }
   ],
   "source": [
    "test3 = model_best_svm.predict([\"URGENT: Immediate Action Required!Your account has been compromised. Please click on the link to verify your information and secure your account.\"])\n",
    "print(test3[0])"
   ]
  },
  {
   "cell_type": "code",
   "execution_count": 46,
   "id": "89b31f16",
   "metadata": {},
   "outputs": [
    {
     "name": "stdout",
     "output_type": "stream",
     "text": [
      "0\n"
     ]
    }
   ],
   "source": [
    "test4 = model_best_svm.predict([\"Your microsoft account has been compromised ,you must update before or else your account going to close click to update\"])\n",
    "print(test4[0])"
   ]
  },
  {
   "cell_type": "code",
   "execution_count": 47,
   "id": "df791ef4",
   "metadata": {},
   "outputs": [
    {
     "name": "stdout",
     "output_type": "stream",
     "text": [
      "0\n"
     ]
    }
   ],
   "source": [
    "test5 = model_best_svm.predict([\"How to write on-brand, factual articles with AI Article Writer 5.0? Hey Talha, Last week, we launched AI Article Writer 5.0: a personalized, factual, SEO article writer. And it ended being the #2 product of the day on Product Hunt. Thank you for your support! 🎉As our usual drill, it's time for a LIVE training session.So here's your invite to an exclusive session on – Using AI Article Writer 5.0 to craft on-brand, factual articles.In under an hour, I'll show you how to set up your brand voice, use document-based generation, and create SEO-optimized blog posts and articles that are super personalized & factually accurate. 🚀Click here to register📅 Mark your calendars...Date: June 15, 2023 Time: 12 pm EDT/EST (9.30 pm IST)Place: Zoom (link will be shared post-registration)Reserve your spot now!Moreover, we'll also have a QnA session where I'll answer all your questions in real time. That's not it. I'll also spill some beans on our upcoming launches.But here's the catch – spots are limited and filling up fast.Click here to claim your seat NOW! See you there. 👋Cheers,SamCEO & Founder @ WritesonicPS. Have a look at what people are saying about AI Article Writer 5.0 on Product Hunt.👇\"])\n",
    "print(test5[0])"
   ]
  },
  {
   "cell_type": "code",
   "execution_count": 48,
   "id": "ff1e997c",
   "metadata": {},
   "outputs": [
    {
     "name": "stdout",
     "output_type": "stream",
     "text": [
      "0\n"
     ]
    }
   ],
   "source": [
    "test6 = model_best_svm.predict([\"[Free Webinar] 8 Ways AI can Boost Your Business with No-code Hello Valued Appy Pie User,I hope this email finds you well. I wanted to extend a special invitation to you for an upcoming webinar that explores the exciting and powerful ways small businesses are utilizing AI to fuel their growth and success.Text to Image GeneratorText to Image Generator:It enables small businesses to instantly convert text prompts into visually striking images and create eye-catching graphics.Text to Animation MakerText to Animation Generator:It takes text inputs, understands the context and creates engaging animations that businesses can use as marketing collateral or publish on social channels. Animation maker is currently in alpha testing.Text to Logo GeneratorText to Logo Generator:It empowers small businesses to create stunning, professional logos in minutes, using the power of AI and customizable design templates.Text to avatar generatorText to Avatar Generator:Make trending and realistic avatars by just writing the text and specifying the age, gender, facial features, hairstyle, and accessories of your avatar.AI photo enhancerAI Photo Enhancer:Use it to improve the quality and appearance of your photos. You can also apply filters, effects, and stickers and even adjust brightness, contrast, saturation, sharpness, noise reduction, and whatnot!Text to App GeneratorText to App Generator:It transforms text-based ideas into fully functional, customized mobile applications without any coding knowledge.Text to Website BuilderText to Website Builder:Converts text-based content into stunning, responsive websites with hundreds of features.Text to ChatBot GeneratorText to ChatBot Generator:It transforms text into interactive chatbots with ease, empowers small businesses by revolutionizing customer interaction and boosting efficiency.Title: 8 Ways Small Businesses are using AI to Fuel GrowthDate: 28 June, 2023Time: 12 PM ESTDuring this insightful webinar, we will delve into these 8 powerful strategies and techniques employed by small businesses to leverage AI and drive significant growth. We will showcase real-world examples and provide expert insights on how Appy Pie’s suite of AI-powered products can empower your business to achieve remarkable results.Reserve Your SpotPlease Note: For a limited time only, we have an exclusive offer for our valued Appy Pie users. Take advantage of a 30% discount on all plans of Appy Pie’s AI-powered app builder. Simply apply the coupon code TIPS30.Save 30%, Create Your AppBest regards,Joel PerezVP of Customer SuccessAppy Pie\"])\n",
    "print(test6[0])"
   ]
  },
  {
   "cell_type": "code",
   "execution_count": 49,
   "id": "2165afd6",
   "metadata": {},
   "outputs": [
    {
     "name": "stdout",
     "output_type": "stream",
     "text": [
      "1\n"
     ]
    }
   ],
   "source": [
    "test7 = model_best_svm.predict([\"Hello! This update shares progress in our live games and the new Unity version of Eternium in development. Our next email will discuss the upcoming Closed Alpha test for , the highly anticipated new action-RPG from Dream Primer.Live operations of Eternium have been fully transitioned to Making Fun, while Dream Primer focuses on Project Artemis. We fixed a number of bugs identified by the player community, reactivated side quests, and made updates required by Google and Apple. We are now running all 3 ANB (“A New Beginning”) events within each Season. We are exploring creating a new season-long leaderboard to support this new format.The rebuild of Eternium in Unity is at an exciting point. We hit “first playable” at the start of May, an official milestone to mark the transition from “experimentation mode” to “production”. It felt amazing to see Eternium taking up the FULL screen of my Android phone and to play the familiar first level with the familiar music while seeing opportunities to grow and evolve the game’s appeal for the next decade. Here is a video update that includes a play-through of level 1.Upcoming goals include improving foundational artistic and technical systems such as enemies, abilities, and the user interface and perfecting the tap/gesture input scheme for mobile. Artists are working to enhance the graphics workflow on level 3, which has more sophisticated requirements due to the introduction of variable height terrain. Keep an eye on the Eternium Forum for more updates.Runestrike had a major update in March. We introduced a streamlined Home screen, a new Collection screen to make it easier to find and equip Skins, and a new Conquests feature with semi-weekly challenges that will spice up how you play Runestrike. Extra mana… more blood… minions that come into play with Blitz... These challenges bring a new level of fun and strategy to the deck building battler.Hidden Express is smoking steadily along with 3,775 levels! In March, we released a new mid-week event, City Spotlight. Each week we feature a mystery City that is hidden by 20 tiles. Some of the tiles have power-ups under them, some have random levels, and the rest have the levels from the mystery City. Clear all 20 tiles before the timer runs out to completely reveal the hidden City map and earn great rewards!We listen carefully to our player communities and strongly consider you in all decisions. Come say hello! The latest discussions can always be found on Discord: Eternium, Runestrike.John WelchCEO | Making Fun\"])\n",
    "print(test7[0])"
   ]
  },
  {
   "cell_type": "markdown",
   "id": "21a71e80",
   "metadata": {},
   "source": [
    "-----------------------------------spam mailler--------------------------------------------------\n",
    "\n",
    "Subject: \"Get Rich Quick!\"\n",
    "Body: \"Make thousands of dollars a day with our amazing money-making system. Don't miss this opportunity!\"\n",
    "\n",
    "Subject: \"Exclusive Offer: Limited Time Only!\"\n",
    "Body: \"Get 50% off on all our products! Don't wait, this offer is only available for a limited time.\"\n",
    "\n",
    "Subject: \"You've Won a Luxury Vacation!\"\n",
    "Body: \"Congratulations! You've won an all-expenses-paid luxury vacation to a tropical paradise. Claim your prize now!\"\n",
    "\n",
    "Subject: \"Increase Your Website Traffic Overnight!\"\n",
    "Body: \"Boost your website's traffic and reach new customers instantly with our revolutionary marketing tool.\"\n",
    "\n",
    "Subject: \"Lose Weight Fast and Easy!\"\n",
    "Body: \"Discover the secret to rapid weight loss. Our scientifically proven method will help you shed those extra pounds in no time.\"\n",
    "\n",
    "Subject: \"Investment Opportunity of a Lifetime!\"\n",
    "Body: \"Don't miss out on this once-in-a-lifetime investment opportunity. Earn massive returns with minimal risk.\"\n",
    "\n",
    "Subject: \"Free Trial: Try Our Exclusive Product Now!\"\n",
    "Body: \"Experience the benefits of our revolutionary product with a free trial. Limited quantities available.\"\n",
    "\n",
    "Subject: \"Claim Your Inheritance!\"\n",
    "Body: \"You are entitled to a substantial inheritance from a distant relative. Contact us to claim your rightful fortune.\"\n",
    "\n",
    "Subject: \"Special Discount for Our Valued Customers!\"\n",
    "Body: \"As a valued customer, you are eligible for a special discount on our latest collection. Shop now and save big!\"\n",
    "\n",
    "Subject: \"URGENT: Immediate Action Required!\"\n",
    "Body: \"Your account has been compromised. Please click on the link to verify your information and secure your account.\"\n",
    "\n",
    "-----------------------------------ham mailler--------------------------------------------------\n",
    "\n",
    "Subject: \"Invitation to a Charity Event\"\n",
    "Body: \"You are cordially invited to our annual charity gala. Join us for an evening of giving back and making a difference in our community.\"\n",
    "\n",
    "Subject: \"Job Interview Confirmation\"\n",
    "Body: \"Thank you for scheduling an interview with our company. We look forward to meeting you on the specified date and time.\"\n",
    "\n",
    "Subject: \"Payment Confirmation for Order #12345\"\n",
    "Body: \"Your payment for the recent order has been successfully processed. We will notify you once your items are shipped.\"\n",
    "\n",
    "Subject: \"Weekly Newsletter: Stay Updated with Our Latest News\"\n",
    "Body: \"Subscribe to our weekly newsletter to receive updates on industry trends, upcoming events, and exclusive offers.\"\n",
    "\n",
    "Subject: \"Congratulations on Your Graduation!\"\n",
    "Body: \"Congratulations on completing your studies! We wish you all the best in your future endeavors.\"\n",
    "\n",
    "Subject: \"Reminder: Upcoming Webinar on Digital Marketing Strategies\"\n",
    "Body: \"Don't forget to join our webinar on the best practices for effective digital marketing. Register now to secure your spot.\"\n",
    "\n",
    "Subject: \"Vacation Rental Confirmation\"\n",
    "Body: \"Your reservation for the vacation rental has been confirmed. We hope you have a wonderful stay!\"\n",
    "\n",
    "Subject: \"Important Update: Changes to Terms and Conditions\"\n",
    "Body: \"We have made updates to our terms and conditions. Please review the changes and let us know if you have any questions.\"\n",
    "\n",
    "Subject: \"New Product Announcement: Introducing the XYZ Smartphone\"\n",
    "Body: \"Discover the latest innovation in mobile technology with our new XYZ Smartphone. Pre-order now to be among the first to own it.\"\n",
    "\n",
    "Subject: \"Thank You for Your Recent Purchase\"\n",
    "Body: \"Thank you for shopping with us. We appreciate your business and hope you enjoy your new products.\""
   ]
  },
  {
   "cell_type": "markdown",
   "id": "4704a1e5",
   "metadata": {},
   "source": [
    "### Test Veri Seti Üzerinde Modelimizi Tekrar Test Edecek Olursak:"
   ]
  },
  {
   "cell_type": "code",
   "execution_count": 77,
   "id": "40e6fc01",
   "metadata": {},
   "outputs": [
    {
     "name": "stdout",
     "output_type": "stream",
     "text": [
      "Confusion Matrix:\n",
      " [[578   4]\n",
      " [  1 112]]\n",
      "Accuracy: 0.9928057553956835\n"
     ]
    }
   ],
   "source": [
    "y_pred_test = model_best_svm.predict(X_test)\n",
    "cm_test = confusion_matrix(y_pred_test,Y_test)\n",
    "print(\"Confusion Matrix:\\n\", cm_test)\n",
    "print(\"Accuracy:\", accuracy_score(Y_test, y_pred_test))"
   ]
  },
  {
   "cell_type": "markdown",
   "id": "0634ab02",
   "metadata": {},
   "source": [
    "## **Sonuç olarak, dış kaynaklardan getirilen verilerin de başarılı bir şekilde sınıflandırıldığı raporlanmıştır.**"
   ]
  },
  {
   "cell_type": "code",
   "execution_count": null,
   "id": "139ff678",
   "metadata": {},
   "outputs": [],
   "source": []
  }
 ],
 "metadata": {
  "kernelspec": {
   "display_name": "Python 3 (ipykernel)",
   "language": "python",
   "name": "python3"
  },
  "language_info": {
   "codemirror_mode": {
    "name": "ipython",
    "version": 3
   },
   "file_extension": ".py",
   "mimetype": "text/x-python",
   "name": "python",
   "nbconvert_exporter": "python",
   "pygments_lexer": "ipython3",
   "version": "3.9.13"
  }
 },
 "nbformat": 4,
 "nbformat_minor": 5
}
